{
 "cells": [
  {
   "cell_type": "markdown",
   "metadata": {},
   "source": [
    "<div>\n",
    "    <p style=\"font-size:30px;\"> Digital House - Desafio Final | <img src=\"https://www.digitalhouse.com/logo-DH.png\" align=\"center\" width=\"300\" height=\"300\">  | <img src=\"crash.jpeg\" align=\"center\" width=\"150\" height=\"150\"> </img></p>\n",
    "</div>"
   ]
  },
  {
   "cell_type": "markdown",
   "metadata": {},
   "source": [
    "<font color='blue'>\n",
    "    \n",
    "Tabla de Contenidos:\n",
    "\n",
    "1. [Introducción](#intro)\n",
    "2. [Construcción del dataset](#dataset)\n",
    "3. [EDA](#eda)\n",
    "4. [Modelado](#modelado)"
   ]
  },
  {
   "cell_type": "markdown",
   "metadata": {
    "tags": []
   },
   "source": [
    "<hr>\n",
    "<div id='intro'>\n",
    "    <h2> Introducción </h2>\n",
    "</div>\n",
    "<hr>"
   ]
  },
  {
   "cell_type": "markdown",
   "metadata": {},
   "source": [
    "<p>La presente notebook tiene por objetivo el desarrollo del Trabajo Práctico Final Integrador del Grupo 7.\n",
    "\n",
    "Hoy en día una ambulancia del SAME tarda aproximadamente entre 20 y 30 mínutos en llegar a lugar de un accidente (<a href=\"https://www.lanacion.com.ar/sociedad/same-una-emergencia-cada-155-minutos-nid1442582/\">Referencia</a>). Este tiempo de llegada es en el mejor de los casos cuando la llamada se realiza al 107 y no al 911, como ocurre muchas veces y en el traspaso de la urgencia se pierde todavía más tiempo. Minutos perdidos que podrían ser muy valiosos...\n",
    "    \n",
    "La idea de este proyecto es poder predecir la cantidad de accidentes que pueden llegar a haber en una determinada zona de la Ciudad Autónoma de Buenos Aires, considerando distintas variables de las fechas y estado del clima. De esta forma, podrían ubicarse `Spots Ambulatorios` en <b>zonas de mayor riesgo de accidentes de tránsito</b>, llegando a estos lugares con mayor rapidez.\n",
    "    \n",
    "Para ello, se elaboró un dataset que fue obtenido de la página del <a href=\"https://data.buenosaires.gob.ar/dataset/\">CABA</a>, junto a otros datos fueron obtenido través de un scrapping realizado sobre la página <a href=\"https://www.wunderground.com/\">Wunderground</a>.</p>"
   ]
  },
  {
   "cell_type": "markdown",
   "metadata": {},
   "source": [
    "`Imports de librerías necesarias`"
   ]
  },
  {
   "cell_type": "code",
   "execution_count": 88,
   "metadata": {},
   "outputs": [],
   "source": [
    "import pandas as pd\n",
    "from datetime import datetime\n",
    "import re\n",
    "from datetime import date, datetime, timedelta\n",
    "import geopandas as gpd\n",
    "from shapely.geometry import Point\n",
    "from shapely.geometry.polygon import Polygon\n",
    "import random\n",
    "import numpy as np\n",
    "from datetime import datetime as dt\n",
    "import shapely.wkt\n",
    "import matplotlib.pyplot as plt\n",
    "import seaborn as sns\n",
    "import pickle\n",
    "#import built_in_functions\n",
    "\n",
    "%matplotlib inline"
   ]
  },
  {
   "cell_type": "code",
   "execution_count": null,
   "metadata": {},
   "outputs": [],
   "source": []
  },
  {
   "cell_type": "markdown",
   "metadata": {
    "tags": []
   },
   "source": [
    "<hr>\n",
    "<div id='dataset'>\n",
    "    <h2> Construcción del dataset </h2>\n",
    "</div>\n",
    "<hr>"
   ]
  },
  {
   "cell_type": "markdown",
   "metadata": {},
   "source": [
    "<p>Las siguientes celdas constan tanto de <b>lectura</b> como de <b>limpieza</b> de datos para formar el dataset de siniestros viales."
   ]
  },
  {
   "cell_type": "code",
   "execution_count": 2,
   "metadata": {},
   "outputs": [
    {
     "name": "stderr",
     "output_type": "stream",
     "text": [
      "/Users/bpeco/opt/anaconda3/lib/python3.8/site-packages/IPython/core/interactiveshell.py:3146: DtypeWarning: Columns (9) have mixed types.Specify dtype option on import or set low_memory=False.\n",
      "  has_raised = await self.run_ast_nodes(code_ast.body, cell_name,\n"
     ]
    },
    {
     "data": {
      "text/html": [
       "<div>\n",
       "<style scoped>\n",
       "    .dataframe tbody tr th:only-of-type {\n",
       "        vertical-align: middle;\n",
       "    }\n",
       "\n",
       "    .dataframe tbody tr th {\n",
       "        vertical-align: top;\n",
       "    }\n",
       "\n",
       "    .dataframe thead th {\n",
       "        text-align: right;\n",
       "    }\n",
       "</style>\n",
       "<table border=\"1\" class=\"dataframe\">\n",
       "  <thead>\n",
       "    <tr style=\"text-align: right;\">\n",
       "      <th></th>\n",
       "      <th>causa</th>\n",
       "      <th>rol</th>\n",
       "      <th>tipo</th>\n",
       "      <th>sexo</th>\n",
       "      <th>edad</th>\n",
       "      <th>mes</th>\n",
       "      <th>periodo</th>\n",
       "      <th>fecha</th>\n",
       "      <th>hora</th>\n",
       "      <th>lugar_hecho</th>\n",
       "      <th>...</th>\n",
       "      <th>x</th>\n",
       "      <th>y</th>\n",
       "      <th>geom</th>\n",
       "      <th>cantidad_victimas</th>\n",
       "      <th>comuna</th>\n",
       "      <th>geom_3857</th>\n",
       "      <th>tipo_colision1</th>\n",
       "      <th>participantes_victimas</th>\n",
       "      <th>participantes_acusados</th>\n",
       "      <th>geometry</th>\n",
       "    </tr>\n",
       "  </thead>\n",
       "  <tbody>\n",
       "    <tr>\n",
       "      <th>0</th>\n",
       "      <td>homicidio</td>\n",
       "      <td>conductor</td>\n",
       "      <td>moto</td>\n",
       "      <td>NaN</td>\n",
       "      <td>NaN</td>\n",
       "      <td>2.0</td>\n",
       "      <td>2015</td>\n",
       "      <td>2/14/2015</td>\n",
       "      <td>19:00:00</td>\n",
       "      <td>cafayate y severo garcia grande de zequeira</td>\n",
       "      <td>...</td>\n",
       "      <td>-58.508658</td>\n",
       "      <td>-34.653489</td>\n",
       "      <td>0101000020E610000057E042B51B414DC008419885A553...</td>\n",
       "      <td>1</td>\n",
       "      <td>9.0</td>\n",
       "      <td>0101000020110F0000DE9B958180D858C1EC802966CD68...</td>\n",
       "      <td>motovehiculo - vehiculo</td>\n",
       "      <td>moto</td>\n",
       "      <td>automovil</td>\n",
       "      <td>POINT (-58.50866 -34.65349)</td>\n",
       "    </tr>\n",
       "    <tr>\n",
       "      <th>1</th>\n",
       "      <td>homicidio</td>\n",
       "      <td>NaN</td>\n",
       "      <td>NaN</td>\n",
       "      <td>NaN</td>\n",
       "      <td>NaN</td>\n",
       "      <td>2.0</td>\n",
       "      <td>2015</td>\n",
       "      <td>2/25/2015</td>\n",
       "      <td>3:00:00</td>\n",
       "      <td>lugones, leopoldo av. y udaondo, guillermo av.</td>\n",
       "      <td>...</td>\n",
       "      <td>-58.447680</td>\n",
       "      <td>-34.543513</td>\n",
       "      <td>0101000020E6100000CC4C4C904D394DC0FAF382D99145...</td>\n",
       "      <td>1</td>\n",
       "      <td>13.0</td>\n",
       "      <td>0101000020110F0000BFBC457BDFD158C1E1DDA818C14B...</td>\n",
       "      <td>NaN</td>\n",
       "      <td>NaN</td>\n",
       "      <td>NaN</td>\n",
       "      <td>POINT (-58.44768 -34.54351)</td>\n",
       "    </tr>\n",
       "    <tr>\n",
       "      <th>2</th>\n",
       "      <td>homicidio</td>\n",
       "      <td>peaton</td>\n",
       "      <td>peaton</td>\n",
       "      <td>femenino</td>\n",
       "      <td>NaN</td>\n",
       "      <td>2.0</td>\n",
       "      <td>2015</td>\n",
       "      <td>2/27/2015</td>\n",
       "      <td>8:00:00</td>\n",
       "      <td>avda jujuy y avda independencia</td>\n",
       "      <td>...</td>\n",
       "      <td>-58.403516</td>\n",
       "      <td>-34.618839</td>\n",
       "      <td>0101000020E6100000FBC35B67A6334DC03F854E1F364F...</td>\n",
       "      <td>1</td>\n",
       "      <td>3.0</td>\n",
       "      <td>0101000020110F0000F8067D6812CD58C189755F66A55F...</td>\n",
       "      <td>peaton - vehiculo</td>\n",
       "      <td>peaton</td>\n",
       "      <td>\"transporte publico\"</td>\n",
       "      <td>POINT (-58.40352 -34.61884)</td>\n",
       "    </tr>\n",
       "    <tr>\n",
       "      <th>3</th>\n",
       "      <td>homicidio</td>\n",
       "      <td>NaN</td>\n",
       "      <td>NaN</td>\n",
       "      <td>NaN</td>\n",
       "      <td>NaN</td>\n",
       "      <td>3.0</td>\n",
       "      <td>2015</td>\n",
       "      <td>03-02-15</td>\n",
       "      <td>18:30:00</td>\n",
       "      <td>lavalle 1730</td>\n",
       "      <td>...</td>\n",
       "      <td>-58.391329</td>\n",
       "      <td>-34.603168</td>\n",
       "      <td>0101000020E6100000312FB20D17324DC064587D9E344D...</td>\n",
       "      <td>1</td>\n",
       "      <td>1.0</td>\n",
       "      <td>0101000020110F00005621683DBFCB58C10B59E69B815B...</td>\n",
       "      <td>NaN</td>\n",
       "      <td>NaN</td>\n",
       "      <td>NaN</td>\n",
       "      <td>POINT (-58.39133 -34.60317)</td>\n",
       "    </tr>\n",
       "    <tr>\n",
       "      <th>4</th>\n",
       "      <td>homicidio</td>\n",
       "      <td>pasajero</td>\n",
       "      <td>camion</td>\n",
       "      <td>masculino</td>\n",
       "      <td>NaN</td>\n",
       "      <td>4.0</td>\n",
       "      <td>2015</td>\n",
       "      <td>04-09-15</td>\n",
       "      <td>1:20:00</td>\n",
       "      <td>ave salvador m del carril 2434</td>\n",
       "      <td>...</td>\n",
       "      <td>-58.492895</td>\n",
       "      <td>-34.587489</td>\n",
       "      <td>0101000020E61000009BDD7231173F4DC02D782AD7324B...</td>\n",
       "      <td>1</td>\n",
       "      <td>15.0</td>\n",
       "      <td>0101000020110F00006F2F76D4C9D658C1750825735D57...</td>\n",
       "      <td>vehiculo - vehiculo</td>\n",
       "      <td>camion</td>\n",
       "      <td>camion</td>\n",
       "      <td>POINT (-58.49290 -34.58749)</td>\n",
       "    </tr>\n",
       "  </tbody>\n",
       "</table>\n",
       "<p>5 rows × 30 columns</p>\n",
       "</div>"
      ],
      "text/plain": [
       "       causa        rol    tipo       sexo  edad  mes  periodo      fecha  \\\n",
       "0  homicidio  conductor    moto        NaN   NaN  2.0     2015  2/14/2015   \n",
       "1  homicidio        NaN     NaN        NaN   NaN  2.0     2015  2/25/2015   \n",
       "2  homicidio     peaton  peaton   femenino   NaN  2.0     2015  2/27/2015   \n",
       "3  homicidio        NaN     NaN        NaN   NaN  3.0     2015   03-02-15   \n",
       "4  homicidio   pasajero  camion  masculino   NaN  4.0     2015   04-09-15   \n",
       "\n",
       "       hora                                     lugar_hecho  ...          x  \\\n",
       "0  19:00:00     cafayate y severo garcia grande de zequeira  ... -58.508658   \n",
       "1   3:00:00  lugones, leopoldo av. y udaondo, guillermo av.  ... -58.447680   \n",
       "2   8:00:00                 avda jujuy y avda independencia  ... -58.403516   \n",
       "3  18:30:00                                    lavalle 1730  ... -58.391329   \n",
       "4   1:20:00                  ave salvador m del carril 2434  ... -58.492895   \n",
       "\n",
       "           y                                               geom  \\\n",
       "0 -34.653489  0101000020E610000057E042B51B414DC008419885A553...   \n",
       "1 -34.543513  0101000020E6100000CC4C4C904D394DC0FAF382D99145...   \n",
       "2 -34.618839  0101000020E6100000FBC35B67A6334DC03F854E1F364F...   \n",
       "3 -34.603168  0101000020E6100000312FB20D17324DC064587D9E344D...   \n",
       "4 -34.587489  0101000020E61000009BDD7231173F4DC02D782AD7324B...   \n",
       "\n",
       "  cantidad_victimas  comuna  \\\n",
       "0                 1     9.0   \n",
       "1                 1    13.0   \n",
       "2                 1     3.0   \n",
       "3                 1     1.0   \n",
       "4                 1    15.0   \n",
       "\n",
       "                                           geom_3857           tipo_colision1  \\\n",
       "0  0101000020110F0000DE9B958180D858C1EC802966CD68...  motovehiculo - vehiculo   \n",
       "1  0101000020110F0000BFBC457BDFD158C1E1DDA818C14B...                      NaN   \n",
       "2  0101000020110F0000F8067D6812CD58C189755F66A55F...        peaton - vehiculo   \n",
       "3  0101000020110F00005621683DBFCB58C10B59E69B815B...                      NaN   \n",
       "4  0101000020110F00006F2F76D4C9D658C1750825735D57...      vehiculo - vehiculo   \n",
       "\n",
       "   participantes_victimas participantes_acusados                     geometry  \n",
       "0                    moto              automovil  POINT (-58.50866 -34.65349)  \n",
       "1                     NaN                    NaN  POINT (-58.44768 -34.54351)  \n",
       "2                  peaton   \"transporte publico\"  POINT (-58.40352 -34.61884)  \n",
       "3                     NaN                    NaN  POINT (-58.39133 -34.60317)  \n",
       "4                  camion                 camion  POINT (-58.49290 -34.58749)  \n",
       "\n",
       "[5 rows x 30 columns]"
      ]
     },
     "execution_count": 2,
     "metadata": {},
     "output_type": "execute_result"
    }
   ],
   "source": [
    "#Importamos DF Siniestros\n",
    "siniestros_df = pd.read_csv('Victimas_siniestros_2015-2018.csv')\n",
    "\n",
    "#Convertimos a Geo Points\n",
    "siniestros_df = gpd.GeoDataFrame(siniestros_df,geometry=gpd.points_from_xy(siniestros_df.x, siniestros_df.y))\n",
    "#siniestros_df['fecha'] = pd.to_datetime(siniestros_df['fecha'],format='%m/%d/%Y')\n",
    "siniestros_df.head()"
   ]
  },
  {
   "cell_type": "code",
   "execution_count": 3,
   "metadata": {},
   "outputs": [],
   "source": [
    "#Importamos DF Barrios\n",
    "barrios = gpd.read_file(\"barrios.csv\")"
   ]
  },
  {
   "cell_type": "code",
   "execution_count": 4,
   "metadata": {},
   "outputs": [],
   "source": [
    "def from_wkt(dataframe, wkt_column):\n",
    "    '''\n",
    "    Obtiene las coordenadas de una columna WKT.\n",
    "\n",
    "    Retorna un dataframe igual a `dataframe` con una columna nueva `coordenadas` en la cual se encuentra la columna `wkt_column` en el correcto formato geoespacial.\n",
    "\n",
    "    Parameters\n",
    "    ----------\n",
    "    dataframe : dataframe en el cual se encuentra la columna WKT.\n",
    "\n",
    "    wkt_column : columna a través de la cual se va a obtener la nueva columna `coordenadas` en formato geoespacial.\n",
    "    '''\n",
    "\n",
    "\n",
    "    dataframe[\"coordenadas\"]= dataframe[wkt_column].apply(shapely.wkt.loads)\n",
    "    geo_barrios = gpd.GeoDataFrame(dataframe, geometry='coordenadas')\n",
    "    return geo_barrios"
   ]
  },
  {
   "cell_type": "code",
   "execution_count": 5,
   "metadata": {},
   "outputs": [],
   "source": [
    "# change geometry\n",
    "barrios = from_wkt(barrios, \"WKT\")"
   ]
  },
  {
   "cell_type": "code",
   "execution_count": 6,
   "metadata": {},
   "outputs": [
    {
     "data": {
      "text/plain": [
       "geopandas.geodataframe.GeoDataFrame"
      ]
     },
     "execution_count": 6,
     "metadata": {},
     "output_type": "execute_result"
    }
   ],
   "source": [
    "barrios[\"WKT\"] = barrios[\"WKT\"].apply(shapely.wkt.loads) \n",
    "barrios = gpd.GeoDataFrame(barrios, geometry='WKT')\n",
    "type(barrios)"
   ]
  },
  {
   "cell_type": "code",
   "execution_count": 7,
   "metadata": {},
   "outputs": [
    {
     "name": "stdout",
     "output_type": "stream",
     "text": [
      "1000\n",
      "5000\n",
      "10000\n",
      "15000\n",
      "25000\n",
      "30000\n"
     ]
    }
   ],
   "source": [
    "n=0\n",
    "for index_siniestros, row_siniestros in siniestros_df.iterrows():\n",
    "    if n in [1000, 5000, 10000, 15000, 25000, 30000]:\n",
    "        print(n)\n",
    "    for index_barrios, row_barrios in barrios.iterrows():\n",
    "        if row_barrios['coordenadas'].contains(row_siniestros['geometry']):\n",
    "            siniestros_df.loc[n, 'Barrio'] = row_barrios['barrio']\n",
    "            break\n",
    "    n+=1"
   ]
  },
  {
   "cell_type": "code",
   "execution_count": 9,
   "metadata": {},
   "outputs": [
    {
     "data": {
      "text/html": [
       "<div>\n",
       "<style scoped>\n",
       "    .dataframe tbody tr th:only-of-type {\n",
       "        vertical-align: middle;\n",
       "    }\n",
       "\n",
       "    .dataframe tbody tr th {\n",
       "        vertical-align: top;\n",
       "    }\n",
       "\n",
       "    .dataframe thead th {\n",
       "        text-align: right;\n",
       "    }\n",
       "</style>\n",
       "<table border=\"1\" class=\"dataframe\">\n",
       "  <thead>\n",
       "    <tr style=\"text-align: right;\">\n",
       "      <th></th>\n",
       "      <th>causa</th>\n",
       "      <th>rol</th>\n",
       "      <th>tipo</th>\n",
       "      <th>sexo</th>\n",
       "      <th>edad</th>\n",
       "      <th>mes</th>\n",
       "      <th>periodo</th>\n",
       "      <th>fecha</th>\n",
       "      <th>hora</th>\n",
       "      <th>lugar_hecho</th>\n",
       "      <th>...</th>\n",
       "      <th>y</th>\n",
       "      <th>geom</th>\n",
       "      <th>cantidad_victimas</th>\n",
       "      <th>comuna</th>\n",
       "      <th>geom_3857</th>\n",
       "      <th>tipo_colision1</th>\n",
       "      <th>participantes_victimas</th>\n",
       "      <th>participantes_acusados</th>\n",
       "      <th>geometry</th>\n",
       "      <th>Barrio</th>\n",
       "    </tr>\n",
       "  </thead>\n",
       "  <tbody>\n",
       "    <tr>\n",
       "      <th>0</th>\n",
       "      <td>homicidio</td>\n",
       "      <td>conductor</td>\n",
       "      <td>moto</td>\n",
       "      <td>NaN</td>\n",
       "      <td>NaN</td>\n",
       "      <td>2.0</td>\n",
       "      <td>2015</td>\n",
       "      <td>2/14/2015</td>\n",
       "      <td>19:00:00</td>\n",
       "      <td>cafayate y severo garcia grande de zequeira</td>\n",
       "      <td>...</td>\n",
       "      <td>-34.653489</td>\n",
       "      <td>0101000020E610000057E042B51B414DC008419885A553...</td>\n",
       "      <td>1</td>\n",
       "      <td>9.0</td>\n",
       "      <td>0101000020110F0000DE9B958180D858C1EC802966CD68...</td>\n",
       "      <td>motovehiculo - vehiculo</td>\n",
       "      <td>moto</td>\n",
       "      <td>automovil</td>\n",
       "      <td>POINT (-58.50866 -34.65349)</td>\n",
       "      <td>MATADEROS</td>\n",
       "    </tr>\n",
       "    <tr>\n",
       "      <th>1</th>\n",
       "      <td>homicidio</td>\n",
       "      <td>NaN</td>\n",
       "      <td>NaN</td>\n",
       "      <td>NaN</td>\n",
       "      <td>NaN</td>\n",
       "      <td>2.0</td>\n",
       "      <td>2015</td>\n",
       "      <td>2/25/2015</td>\n",
       "      <td>3:00:00</td>\n",
       "      <td>lugones, leopoldo av. y udaondo, guillermo av.</td>\n",
       "      <td>...</td>\n",
       "      <td>-34.543513</td>\n",
       "      <td>0101000020E6100000CC4C4C904D394DC0FAF382D99145...</td>\n",
       "      <td>1</td>\n",
       "      <td>13.0</td>\n",
       "      <td>0101000020110F0000BFBC457BDFD158C1E1DDA818C14B...</td>\n",
       "      <td>NaN</td>\n",
       "      <td>NaN</td>\n",
       "      <td>NaN</td>\n",
       "      <td>POINT (-58.44768 -34.54351)</td>\n",
       "      <td>BELGRANO</td>\n",
       "    </tr>\n",
       "    <tr>\n",
       "      <th>2</th>\n",
       "      <td>homicidio</td>\n",
       "      <td>peaton</td>\n",
       "      <td>peaton</td>\n",
       "      <td>femenino</td>\n",
       "      <td>NaN</td>\n",
       "      <td>2.0</td>\n",
       "      <td>2015</td>\n",
       "      <td>2/27/2015</td>\n",
       "      <td>8:00:00</td>\n",
       "      <td>avda jujuy y avda independencia</td>\n",
       "      <td>...</td>\n",
       "      <td>-34.618839</td>\n",
       "      <td>0101000020E6100000FBC35B67A6334DC03F854E1F364F...</td>\n",
       "      <td>1</td>\n",
       "      <td>3.0</td>\n",
       "      <td>0101000020110F0000F8067D6812CD58C189755F66A55F...</td>\n",
       "      <td>peaton - vehiculo</td>\n",
       "      <td>peaton</td>\n",
       "      <td>\"transporte publico\"</td>\n",
       "      <td>POINT (-58.40352 -34.61884)</td>\n",
       "      <td>BALVANERA</td>\n",
       "    </tr>\n",
       "    <tr>\n",
       "      <th>3</th>\n",
       "      <td>homicidio</td>\n",
       "      <td>NaN</td>\n",
       "      <td>NaN</td>\n",
       "      <td>NaN</td>\n",
       "      <td>NaN</td>\n",
       "      <td>3.0</td>\n",
       "      <td>2015</td>\n",
       "      <td>03-02-15</td>\n",
       "      <td>18:30:00</td>\n",
       "      <td>lavalle 1730</td>\n",
       "      <td>...</td>\n",
       "      <td>-34.603168</td>\n",
       "      <td>0101000020E6100000312FB20D17324DC064587D9E344D...</td>\n",
       "      <td>1</td>\n",
       "      <td>1.0</td>\n",
       "      <td>0101000020110F00005621683DBFCB58C10B59E69B815B...</td>\n",
       "      <td>NaN</td>\n",
       "      <td>NaN</td>\n",
       "      <td>NaN</td>\n",
       "      <td>POINT (-58.39133 -34.60317)</td>\n",
       "      <td>SAN NICOLAS</td>\n",
       "    </tr>\n",
       "    <tr>\n",
       "      <th>4</th>\n",
       "      <td>homicidio</td>\n",
       "      <td>pasajero</td>\n",
       "      <td>camion</td>\n",
       "      <td>masculino</td>\n",
       "      <td>NaN</td>\n",
       "      <td>4.0</td>\n",
       "      <td>2015</td>\n",
       "      <td>04-09-15</td>\n",
       "      <td>1:20:00</td>\n",
       "      <td>ave salvador m del carril 2434</td>\n",
       "      <td>...</td>\n",
       "      <td>-34.587489</td>\n",
       "      <td>0101000020E61000009BDD7231173F4DC02D782AD7324B...</td>\n",
       "      <td>1</td>\n",
       "      <td>15.0</td>\n",
       "      <td>0101000020110F00006F2F76D4C9D658C1750825735D57...</td>\n",
       "      <td>vehiculo - vehiculo</td>\n",
       "      <td>camion</td>\n",
       "      <td>camion</td>\n",
       "      <td>POINT (-58.49290 -34.58749)</td>\n",
       "      <td>AGRONOMIA</td>\n",
       "    </tr>\n",
       "  </tbody>\n",
       "</table>\n",
       "<p>5 rows × 31 columns</p>\n",
       "</div>"
      ],
      "text/plain": [
       "       causa        rol    tipo       sexo  edad  mes  periodo      fecha  \\\n",
       "0  homicidio  conductor    moto        NaN   NaN  2.0     2015  2/14/2015   \n",
       "1  homicidio        NaN     NaN        NaN   NaN  2.0     2015  2/25/2015   \n",
       "2  homicidio     peaton  peaton   femenino   NaN  2.0     2015  2/27/2015   \n",
       "3  homicidio        NaN     NaN        NaN   NaN  3.0     2015   03-02-15   \n",
       "4  homicidio   pasajero  camion  masculino   NaN  4.0     2015   04-09-15   \n",
       "\n",
       "       hora                                     lugar_hecho  ...          y  \\\n",
       "0  19:00:00     cafayate y severo garcia grande de zequeira  ... -34.653489   \n",
       "1   3:00:00  lugones, leopoldo av. y udaondo, guillermo av.  ... -34.543513   \n",
       "2   8:00:00                 avda jujuy y avda independencia  ... -34.618839   \n",
       "3  18:30:00                                    lavalle 1730  ... -34.603168   \n",
       "4   1:20:00                  ave salvador m del carril 2434  ... -34.587489   \n",
       "\n",
       "                                                geom cantidad_victimas comuna  \\\n",
       "0  0101000020E610000057E042B51B414DC008419885A553...                 1    9.0   \n",
       "1  0101000020E6100000CC4C4C904D394DC0FAF382D99145...                 1   13.0   \n",
       "2  0101000020E6100000FBC35B67A6334DC03F854E1F364F...                 1    3.0   \n",
       "3  0101000020E6100000312FB20D17324DC064587D9E344D...                 1    1.0   \n",
       "4  0101000020E61000009BDD7231173F4DC02D782AD7324B...                 1   15.0   \n",
       "\n",
       "                                           geom_3857           tipo_colision1  \\\n",
       "0  0101000020110F0000DE9B958180D858C1EC802966CD68...  motovehiculo - vehiculo   \n",
       "1  0101000020110F0000BFBC457BDFD158C1E1DDA818C14B...                      NaN   \n",
       "2  0101000020110F0000F8067D6812CD58C189755F66A55F...        peaton - vehiculo   \n",
       "3  0101000020110F00005621683DBFCB58C10B59E69B815B...                      NaN   \n",
       "4  0101000020110F00006F2F76D4C9D658C1750825735D57...      vehiculo - vehiculo   \n",
       "\n",
       "   participantes_victimas  participantes_acusados  \\\n",
       "0                    moto               automovil   \n",
       "1                     NaN                     NaN   \n",
       "2                  peaton    \"transporte publico\"   \n",
       "3                     NaN                     NaN   \n",
       "4                  camion                  camion   \n",
       "\n",
       "                      geometry       Barrio  \n",
       "0  POINT (-58.50866 -34.65349)    MATADEROS  \n",
       "1  POINT (-58.44768 -34.54351)     BELGRANO  \n",
       "2  POINT (-58.40352 -34.61884)    BALVANERA  \n",
       "3  POINT (-58.39133 -34.60317)  SAN NICOLAS  \n",
       "4  POINT (-58.49290 -34.58749)    AGRONOMIA  \n",
       "\n",
       "[5 rows x 31 columns]"
      ]
     },
     "execution_count": 9,
     "metadata": {},
     "output_type": "execute_result"
    }
   ],
   "source": [
    "siniestros_df.head(5)"
   ]
  },
  {
   "cell_type": "markdown",
   "metadata": {},
   "source": [
    "> Generamos un dataframe con las fechas correspondientes 2015 hasta 2018. Nos va a ser útil más adelante en la notebook para generar el dataset complemento (es decir, cuando no hubieron accidentes)."
   ]
  },
  {
   "cell_type": "code",
   "execution_count": 10,
   "metadata": {},
   "outputs": [
    {
     "data": {
      "text/html": [
       "<div>\n",
       "<style scoped>\n",
       "    .dataframe tbody tr th:only-of-type {\n",
       "        vertical-align: middle;\n",
       "    }\n",
       "\n",
       "    .dataframe tbody tr th {\n",
       "        vertical-align: top;\n",
       "    }\n",
       "\n",
       "    .dataframe thead th {\n",
       "        text-align: right;\n",
       "    }\n",
       "</style>\n",
       "<table border=\"1\" class=\"dataframe\">\n",
       "  <thead>\n",
       "    <tr style=\"text-align: right;\">\n",
       "      <th></th>\n",
       "      <th>Date</th>\n",
       "      <th>Hour</th>\n",
       "    </tr>\n",
       "  </thead>\n",
       "  <tbody>\n",
       "    <tr>\n",
       "      <th>0</th>\n",
       "      <td>2015-01-01</td>\n",
       "      <td>0</td>\n",
       "    </tr>\n",
       "    <tr>\n",
       "      <th>1</th>\n",
       "      <td>2015-01-01</td>\n",
       "      <td>1</td>\n",
       "    </tr>\n",
       "    <tr>\n",
       "      <th>2</th>\n",
       "      <td>2015-01-01</td>\n",
       "      <td>2</td>\n",
       "    </tr>\n",
       "    <tr>\n",
       "      <th>3</th>\n",
       "      <td>2015-01-01</td>\n",
       "      <td>3</td>\n",
       "    </tr>\n",
       "    <tr>\n",
       "      <th>4</th>\n",
       "      <td>2015-01-01</td>\n",
       "      <td>4</td>\n",
       "    </tr>\n",
       "    <tr>\n",
       "      <th>...</th>\n",
       "      <td>...</td>\n",
       "      <td>...</td>\n",
       "    </tr>\n",
       "    <tr>\n",
       "      <th>29900</th>\n",
       "      <td>2018-05-30</td>\n",
       "      <td>20</td>\n",
       "    </tr>\n",
       "    <tr>\n",
       "      <th>29901</th>\n",
       "      <td>2018-05-30</td>\n",
       "      <td>21</td>\n",
       "    </tr>\n",
       "    <tr>\n",
       "      <th>29902</th>\n",
       "      <td>2018-05-30</td>\n",
       "      <td>22</td>\n",
       "    </tr>\n",
       "    <tr>\n",
       "      <th>29903</th>\n",
       "      <td>2018-05-30</td>\n",
       "      <td>23</td>\n",
       "    </tr>\n",
       "    <tr>\n",
       "      <th>29904</th>\n",
       "      <td>2018-05-31</td>\n",
       "      <td>0</td>\n",
       "    </tr>\n",
       "  </tbody>\n",
       "</table>\n",
       "<p>29905 rows × 2 columns</p>\n",
       "</div>"
      ],
      "text/plain": [
       "             Date  Hour\n",
       "0      2015-01-01     0\n",
       "1      2015-01-01     1\n",
       "2      2015-01-01     2\n",
       "3      2015-01-01     3\n",
       "4      2015-01-01     4\n",
       "...           ...   ...\n",
       "29900  2018-05-30    20\n",
       "29901  2018-05-30    21\n",
       "29902  2018-05-30    22\n",
       "29903  2018-05-30    23\n",
       "29904  2018-05-31     0\n",
       "\n",
       "[29905 rows x 2 columns]"
      ]
     },
     "execution_count": 10,
     "metadata": {},
     "output_type": "execute_result"
    }
   ],
   "source": [
    "Dates_combined = pd.date_range(start='1/1/2015', end='05/31/2018', freq = \"1 H\")\n",
    "Dates_combined = Dates_combined.format(formatter=lambda x: x.strftime('%Y-%m-%d %H'))\n",
    "Dates_combined = pd.DataFrame(Dates_combined)\n",
    "Dates_combined = Dates_combined.rename(columns={0: 'Date'})\n",
    "Dates_combined['Hour'] = Dates_combined['Date'].apply(lambda x : x.split()[1])\n",
    "\n",
    "Dates_combined['Date'] = pd.to_datetime(Dates_combined['Date'],format = '%Y-%m-%d')\n",
    "Dates_combined['Date'] = Dates_combined['Date'].dt.date\n",
    "Dates_combined['Hour'] = Dates_combined['Hour'].astype(int)\n",
    "Dates_combined"
   ]
  },
  {
   "cell_type": "code",
   "execution_count": 11,
   "metadata": {},
   "outputs": [],
   "source": [
    "siniestros_df = siniestros_df.dropna(subset=['fecha', 'mes', 'hora']).reset_index(drop=True)\n",
    "#siniestros_df = siniestros_df.dropna(subset=['mes'])"
   ]
  },
  {
   "cell_type": "code",
   "execution_count": 12,
   "metadata": {},
   "outputs": [],
   "source": [
    "#siniestros_df.info()"
   ]
  },
  {
   "cell_type": "markdown",
   "metadata": {},
   "source": [
    " "
   ]
  },
  {
   "cell_type": "markdown",
   "metadata": {},
   "source": [
    "> Funcion para estandarizar la fecha de una columna\n"
   ]
  },
  {
   "cell_type": "code",
   "execution_count": 13,
   "metadata": {},
   "outputs": [],
   "source": [
    "def format_date_in_df(dataset, date_column):\n",
    "    '''\n",
    "    Estandariza el formato de una columna fecha con varios formatos.\n",
    "\n",
    "    Retorna un dataframe igual a `dataset` con una columna nueva `date_columns` estandarizada separando año, mes y día con una \"/\".\n",
    "\n",
    "    Parameters\n",
    "    ----------\n",
    "    dataframe : dataframe en el cual se encuentra la columna de fecha a estandarizar.\n",
    "\n",
    "    date_column : columna a través de la cual se va a obtener la nueva columna `fecha_std` en formato estandarizado.\n",
    "    '''\n",
    "    \n",
    "    #1er paso reemplazar los guiones por '/'\n",
    "    dataset[date_column] = dataset[date_column].apply(lambda f: f.replace('-', '/'))\n",
    "    \n",
    "    #2do paso extraer el dia de la columna fecha\n",
    "    pattern = '/(\\d+)/'\n",
    "    re.compile(pattern, flags=re.IGNORECASE)\n",
    "    dias = dataset[date_column].apply(lambda f: re.search(pattern, f).groups()[0])\n",
    "    \n",
    "    #dataset[date_column] = dataset[date_column].apply(lambda f: '0' + f if f[0] != 0 or (f[:2] != '10' and f[:2] != '11' and f[:2] != '12') else pass)\n",
    "    \n",
    "    dataset['dia'] = dias\n",
    "    \n",
    "    #3er paso juntar el dia, mes y año con la '/'\n",
    "    dataset['fecha_std'] = dataset.dia + '/' + dataset.mes.astype(str) + '/' + dataset.periodo.astype(str)\n",
    "    #display(dataset['dia/mes/periodo'])\n",
    "    \n",
    "    #4to paso crear la columna estandarizada\n",
    "    dataset['fecha_std'] = dataset['fecha_std'].apply(lambda f: datetime.strptime(f, '%d/%m/%Y'))\n",
    "    \n",
    "    return dataset"
   ]
  },
  {
   "cell_type": "code",
   "execution_count": 14,
   "metadata": {},
   "outputs": [],
   "source": [
    "#Reemplazamos los valores nulos por 0\n",
    "siniestros_df.mes.fillna(value=0., inplace=True)\n",
    "\n",
    "#Cambiamos el tipo de dato de la columna \"mes\"\n",
    "siniestros_df.mes = siniestros_df.mes.astype(int)"
   ]
  },
  {
   "cell_type": "code",
   "execution_count": 15,
   "metadata": {},
   "outputs": [],
   "source": [
    "#Usamos la función creada para formatear la columna de fecha\n",
    "siniestros_df = format_date_in_df(siniestros_df, 'fecha')"
   ]
  },
  {
   "cell_type": "code",
   "execution_count": 16,
   "metadata": {},
   "outputs": [],
   "source": [
    "siniestros_df['solo_hora'] = siniestros_df.hora.apply(lambda h: h.split(':')[0])"
   ]
  },
  {
   "cell_type": "code",
   "execution_count": 17,
   "metadata": {},
   "outputs": [],
   "source": [
    "#Pasamos a tipo de dato fecha la columna 'fecha_std'\n",
    "siniestros_df['fecha_std'] = siniestros_df['fecha_std'].dt.date"
   ]
  },
  {
   "cell_type": "markdown",
   "metadata": {},
   "source": [
    " "
   ]
  },
  {
   "cell_type": "markdown",
   "metadata": {},
   "source": [
    " "
   ]
  },
  {
   "cell_type": "markdown",
   "metadata": {},
   "source": [
    "`Creación del dataset complemento`\n",
    "\n",
    "Todo lo anterior estaba relacionado a un dataset donde para cada fecha, hora y barrio había una accidente.\n",
    "Si nos hubiéramos quedado con solo ese dataset, el modelo iba a estar entrenado de forma sesgada con la premisa de que siempre va a haber una accidente, y esto es un error.\n",
    "\n",
    "Es por ello que lo que continúa es la elaboración del dataset complemento, es decir, fechas, horas y barrios donde no hubieron accidentes."
   ]
  },
  {
   "cell_type": "markdown",
   "metadata": {},
   "source": [
    " "
   ]
  },
  {
   "cell_type": "markdown",
   "metadata": {},
   "source": [
    "> La lista que se encuentra a continuación es una \"clave\" que se formó a través de la concatenación de la fecha, hora y barrio con un guión bajo, de toda aquella fecha_hora_barrio en la que hubo un accidente"
   ]
  },
  {
   "cell_type": "code",
   "execution_count": 18,
   "metadata": {
    "tags": []
   },
   "outputs": [
    {
     "data": {
      "text/plain": [
       "0          2015-02-14_19_MATADEROS\n",
       "1            2015-02-25_3_BELGRANO\n",
       "2           2015-02-27_8_BALVANERA\n",
       "3        2015-03-02_18_SAN NICOLAS\n",
       "4           2015-04-09_1_AGRONOMIA\n",
       "                   ...            \n",
       "33157            2018-05-30_17_nan\n",
       "33158    2018-05-31_20_SAN NICOLAS\n",
       "33159    2018-05-31_9_VILLA CRESPO\n",
       "33160    2018-05-31_9_VILLA CRESPO\n",
       "33161      2018-05-31_14_CHACARITA\n",
       "Length: 33162, dtype: object"
      ]
     },
     "execution_count": 18,
     "metadata": {},
     "output_type": "execute_result"
    }
   ],
   "source": [
    "fechas_confirm = siniestros_df[['fecha_std', 'solo_hora', 'Barrio']].apply(lambda row: '_'.join(row.values.astype(str)), axis=1)\n",
    "fechas_confirm"
   ]
  },
  {
   "cell_type": "markdown",
   "metadata": {},
   "source": [
    " "
   ]
  },
  {
   "cell_type": "markdown",
   "metadata": {},
   "source": [
    "> A continuanción se forma la lista con la misma lógica de la \"clave\" con guión bajo, para toda posible fecha, hora y barrio. Con esta lista lo que estamos suponiendo -a priori- es que en todas estas claves NO hubo un accidente."
   ]
  },
  {
   "cell_type": "code",
   "execution_count": 19,
   "metadata": {},
   "outputs": [],
   "source": [
    "Dates_combined['Date_as_DT'] = pd.to_datetime(Dates_combined['Date'])"
   ]
  },
  {
   "cell_type": "code",
   "execution_count": 20,
   "metadata": {},
   "outputs": [
    {
     "data": {
      "text/html": [
       "<div>\n",
       "<style scoped>\n",
       "    .dataframe tbody tr th:only-of-type {\n",
       "        vertical-align: middle;\n",
       "    }\n",
       "\n",
       "    .dataframe tbody tr th {\n",
       "        vertical-align: top;\n",
       "    }\n",
       "\n",
       "    .dataframe thead th {\n",
       "        text-align: right;\n",
       "    }\n",
       "</style>\n",
       "<table border=\"1\" class=\"dataframe\">\n",
       "  <thead>\n",
       "    <tr style=\"text-align: right;\">\n",
       "      <th></th>\n",
       "      <th>Date</th>\n",
       "      <th>Hour</th>\n",
       "      <th>Date_as_DT</th>\n",
       "    </tr>\n",
       "  </thead>\n",
       "  <tbody>\n",
       "    <tr>\n",
       "      <th>0</th>\n",
       "      <td>2015-01-01</td>\n",
       "      <td>0</td>\n",
       "      <td>2015-01-01</td>\n",
       "    </tr>\n",
       "    <tr>\n",
       "      <th>1</th>\n",
       "      <td>2015-01-01</td>\n",
       "      <td>1</td>\n",
       "      <td>2015-01-01</td>\n",
       "    </tr>\n",
       "    <tr>\n",
       "      <th>2</th>\n",
       "      <td>2015-01-01</td>\n",
       "      <td>2</td>\n",
       "      <td>2015-01-01</td>\n",
       "    </tr>\n",
       "    <tr>\n",
       "      <th>3</th>\n",
       "      <td>2015-01-01</td>\n",
       "      <td>3</td>\n",
       "      <td>2015-01-01</td>\n",
       "    </tr>\n",
       "    <tr>\n",
       "      <th>4</th>\n",
       "      <td>2015-01-01</td>\n",
       "      <td>4</td>\n",
       "      <td>2015-01-01</td>\n",
       "    </tr>\n",
       "  </tbody>\n",
       "</table>\n",
       "</div>"
      ],
      "text/plain": [
       "         Date  Hour Date_as_DT\n",
       "0  2015-01-01     0 2015-01-01\n",
       "1  2015-01-01     1 2015-01-01\n",
       "2  2015-01-01     2 2015-01-01\n",
       "3  2015-01-01     3 2015-01-01\n",
       "4  2015-01-01     4 2015-01-01"
      ]
     },
     "execution_count": 20,
     "metadata": {},
     "output_type": "execute_result"
    }
   ],
   "source": [
    "Dates_combined.head()"
   ]
  },
  {
   "cell_type": "code",
   "execution_count": 21,
   "metadata": {},
   "outputs": [],
   "source": [
    "#Dates_combined\n",
    "date_hour_barrio_df = pd.DataFrame()"
   ]
  },
  {
   "cell_type": "code",
   "execution_count": 22,
   "metadata": {
    "tags": []
   },
   "outputs": [],
   "source": [
    "n = 0\n",
    "for index, row in Dates_combined.iterrows():\n",
    "    for b in barrios.barrio:\n",
    "        date_hour_barrio_df.loc[n,\"Key\"] = str(row['Date']) + \"_\" + str(row['Hour']) + \"_\" + b\n",
    "        n+=1\n",
    "        "
   ]
  },
  {
   "cell_type": "code",
   "execution_count": 23,
   "metadata": {},
   "outputs": [
    {
     "data": {
      "text/html": [
       "<div>\n",
       "<style scoped>\n",
       "    .dataframe tbody tr th:only-of-type {\n",
       "        vertical-align: middle;\n",
       "    }\n",
       "\n",
       "    .dataframe tbody tr th {\n",
       "        vertical-align: top;\n",
       "    }\n",
       "\n",
       "    .dataframe thead th {\n",
       "        text-align: right;\n",
       "    }\n",
       "</style>\n",
       "<table border=\"1\" class=\"dataframe\">\n",
       "  <thead>\n",
       "    <tr style=\"text-align: right;\">\n",
       "      <th></th>\n",
       "      <th>Key_final</th>\n",
       "    </tr>\n",
       "  </thead>\n",
       "  <tbody>\n",
       "    <tr>\n",
       "      <th>0</th>\n",
       "      <td>2015-01-01_0_CHACARITA</td>\n",
       "    </tr>\n",
       "    <tr>\n",
       "      <th>1</th>\n",
       "      <td>2015-01-01_0_PATERNAL</td>\n",
       "    </tr>\n",
       "    <tr>\n",
       "      <th>2</th>\n",
       "      <td>2015-01-01_0_VILLA CRESPO</td>\n",
       "    </tr>\n",
       "    <tr>\n",
       "      <th>3</th>\n",
       "      <td>2015-01-01_0_VILLA DEL PARQUE</td>\n",
       "    </tr>\n",
       "    <tr>\n",
       "      <th>4</th>\n",
       "      <td>2015-01-01_0_ALMAGRO</td>\n",
       "    </tr>\n",
       "    <tr>\n",
       "      <th>...</th>\n",
       "      <td>...</td>\n",
       "    </tr>\n",
       "    <tr>\n",
       "      <th>1435387</th>\n",
       "      <td>2018-05-31_23_BELGRANO</td>\n",
       "    </tr>\n",
       "    <tr>\n",
       "      <th>1435388</th>\n",
       "      <td>2018-05-31_23_RECOLETA</td>\n",
       "    </tr>\n",
       "    <tr>\n",
       "      <th>1435389</th>\n",
       "      <td>2018-05-31_23_RETIRO</td>\n",
       "    </tr>\n",
       "    <tr>\n",
       "      <th>1435390</th>\n",
       "      <td>2018-05-31_23_NUÃ‘EZ</td>\n",
       "    </tr>\n",
       "    <tr>\n",
       "      <th>1435391</th>\n",
       "      <td>2018-05-31_23_BOCA</td>\n",
       "    </tr>\n",
       "  </tbody>\n",
       "</table>\n",
       "<p>1435392 rows × 1 columns</p>\n",
       "</div>"
      ],
      "text/plain": [
       "                             Key_final\n",
       "0               2015-01-01_0_CHACARITA\n",
       "1                2015-01-01_0_PATERNAL\n",
       "2            2015-01-01_0_VILLA CRESPO\n",
       "3        2015-01-01_0_VILLA DEL PARQUE\n",
       "4                 2015-01-01_0_ALMAGRO\n",
       "...                                ...\n",
       "1435387         2018-05-31_23_BELGRANO\n",
       "1435388         2018-05-31_23_RECOLETA\n",
       "1435389           2018-05-31_23_RETIRO\n",
       "1435390           2018-05-31_23_NUÃ‘EZ\n",
       "1435391             2018-05-31_23_BOCA\n",
       "\n",
       "[1435392 rows x 1 columns]"
      ]
     },
     "execution_count": 23,
     "metadata": {},
     "output_type": "execute_result"
    }
   ],
   "source": [
    "date_hour_barrio_df=pd.read_csv('complemento_df.csv').drop(\"Unnamed: 0\", axis=1)\n",
    "date_hour_barrio_df"
   ]
  },
  {
   "cell_type": "code",
   "execution_count": null,
   "metadata": {
    "tags": []
   },
   "outputs": [],
   "source": [
    "#NO CORRER\n",
    "#n=0\n",
    "#for index, row in data_2015.iterrows():\n",
    "#    if n in [1000, 2500, 5000, 10000, 50000, 100000, 200000, 300000, 400000]:\n",
    "#        print(n)\n",
    "#    texto = row['Key']\n",
    "#    try:\n",
    "#        flag = int(texto[10:12])\n",
    "#        texto = texto[:10]+'_'+texto[10:12]+'_'+texto[12:]\n",
    "#    except:\n",
    "#        texto=texto[:10]+'_'+texto[10:11]+'_'+texto[11:]\n",
    "#    \n",
    "#    data_2015.loc[n, 'Key_final'] = texto\n",
    "#    \n",
    "#    n+=1"
   ]
  },
  {
   "cell_type": "markdown",
   "metadata": {},
   "source": [
    "> Luego de formar la lista de claves donde todas son asumidas como \"no accidentes\", guardamos en una lista los índices de las llaves que aparecen en la lista `fechas_confirm` (recordando que esta última lista era la que tenía las \"claves\" de los registros confirmados con accidentes).\n",
    ">\n",
    "> Posteriormente estos índices los removemos de la lista de \"no accidentes\", por lo que ahora sí esta lista está conformada únicamente por momentos-lugares donde NO hubieron accidentes."
   ]
  },
  {
   "cell_type": "code",
   "execution_count": 24,
   "metadata": {},
   "outputs": [
    {
     "name": "stdout",
     "output_type": "stream",
     "text": [
      "10000\n",
      "50000\n",
      "100000\n",
      "250000\n",
      "500000\n",
      "750000\n",
      "1000000\n"
     ]
    }
   ],
   "source": [
    "drop_indexes = []\n",
    "n=0\n",
    "for index, row in date_hour_barrio_df.iterrows():\n",
    "    if n in [10000, 50000, 100000, 250000, 500000, 750000, 1000000]:\n",
    "        print(n)\n",
    "    if row['Key_final'] in fechas_confirm.values:\n",
    "        drop_indexes.append(index)\n",
    "\n",
    "    n+=1\n",
    "#Dates_combined.drop(drop_indexes, inplace = True)"
   ]
  },
  {
   "cell_type": "code",
   "execution_count": 25,
   "metadata": {},
   "outputs": [],
   "source": [
    "date_hour_barrio_df.drop(drop_indexes, inplace = True)"
   ]
  },
  {
   "cell_type": "code",
   "execution_count": 26,
   "metadata": {},
   "outputs": [],
   "source": [
    "date_hour_barrio_df.reset_index(drop=True, inplace=True)"
   ]
  },
  {
   "cell_type": "code",
   "execution_count": 27,
   "metadata": {},
   "outputs": [
    {
     "data": {
      "text/html": [
       "<div>\n",
       "<style scoped>\n",
       "    .dataframe tbody tr th:only-of-type {\n",
       "        vertical-align: middle;\n",
       "    }\n",
       "\n",
       "    .dataframe tbody tr th {\n",
       "        vertical-align: top;\n",
       "    }\n",
       "\n",
       "    .dataframe thead th {\n",
       "        text-align: right;\n",
       "    }\n",
       "</style>\n",
       "<table border=\"1\" class=\"dataframe\">\n",
       "  <thead>\n",
       "    <tr style=\"text-align: right;\">\n",
       "      <th></th>\n",
       "      <th>Key_final</th>\n",
       "    </tr>\n",
       "  </thead>\n",
       "  <tbody>\n",
       "    <tr>\n",
       "      <th>0</th>\n",
       "      <td>2015-01-01_0_CHACARITA</td>\n",
       "    </tr>\n",
       "    <tr>\n",
       "      <th>1</th>\n",
       "      <td>2015-01-01_0_PATERNAL</td>\n",
       "    </tr>\n",
       "  </tbody>\n",
       "</table>\n",
       "</div>"
      ],
      "text/plain": [
       "                Key_final\n",
       "0  2015-01-01_0_CHACARITA\n",
       "1   2015-01-01_0_PATERNAL"
      ]
     },
     "execution_count": 27,
     "metadata": {},
     "output_type": "execute_result"
    }
   ],
   "source": [
    "date_hour_barrio_df.head(2)"
   ]
  },
  {
   "cell_type": "code",
   "execution_count": 28,
   "metadata": {},
   "outputs": [],
   "source": [
    "date_hour_barrio_df['fecha_std'] = date_hour_barrio_df.Key_final.apply(lambda k: k.split('_')[0])\n",
    "date_hour_barrio_df['solo_hora'] = date_hour_barrio_df.Key_final.apply(lambda k: k.split('_')[1])\n",
    "date_hour_barrio_df['Barrio'] = date_hour_barrio_df.Key_final.apply(lambda k: k.split('_')[2])"
   ]
  },
  {
   "cell_type": "code",
   "execution_count": 29,
   "metadata": {},
   "outputs": [
    {
     "data": {
      "text/html": [
       "<div>\n",
       "<style scoped>\n",
       "    .dataframe tbody tr th:only-of-type {\n",
       "        vertical-align: middle;\n",
       "    }\n",
       "\n",
       "    .dataframe tbody tr th {\n",
       "        vertical-align: top;\n",
       "    }\n",
       "\n",
       "    .dataframe thead th {\n",
       "        text-align: right;\n",
       "    }\n",
       "</style>\n",
       "<table border=\"1\" class=\"dataframe\">\n",
       "  <thead>\n",
       "    <tr style=\"text-align: right;\">\n",
       "      <th></th>\n",
       "      <th>Key_final</th>\n",
       "      <th>fecha_std</th>\n",
       "      <th>solo_hora</th>\n",
       "      <th>Barrio</th>\n",
       "    </tr>\n",
       "  </thead>\n",
       "  <tbody>\n",
       "    <tr>\n",
       "      <th>0</th>\n",
       "      <td>2015-01-01_0_CHACARITA</td>\n",
       "      <td>2015-01-01</td>\n",
       "      <td>0</td>\n",
       "      <td>CHACARITA</td>\n",
       "    </tr>\n",
       "    <tr>\n",
       "      <th>1</th>\n",
       "      <td>2015-01-01_0_PATERNAL</td>\n",
       "      <td>2015-01-01</td>\n",
       "      <td>0</td>\n",
       "      <td>PATERNAL</td>\n",
       "    </tr>\n",
       "    <tr>\n",
       "      <th>2</th>\n",
       "      <td>2015-01-01_0_VILLA CRESPO</td>\n",
       "      <td>2015-01-01</td>\n",
       "      <td>0</td>\n",
       "      <td>VILLA CRESPO</td>\n",
       "    </tr>\n",
       "    <tr>\n",
       "      <th>3</th>\n",
       "      <td>2015-01-01_0_VILLA DEL PARQUE</td>\n",
       "      <td>2015-01-01</td>\n",
       "      <td>0</td>\n",
       "      <td>VILLA DEL PARQUE</td>\n",
       "    </tr>\n",
       "    <tr>\n",
       "      <th>4</th>\n",
       "      <td>2015-01-01_0_ALMAGRO</td>\n",
       "      <td>2015-01-01</td>\n",
       "      <td>0</td>\n",
       "      <td>ALMAGRO</td>\n",
       "    </tr>\n",
       "  </tbody>\n",
       "</table>\n",
       "</div>"
      ],
      "text/plain": [
       "                       Key_final   fecha_std solo_hora            Barrio\n",
       "0         2015-01-01_0_CHACARITA  2015-01-01         0         CHACARITA\n",
       "1          2015-01-01_0_PATERNAL  2015-01-01         0          PATERNAL\n",
       "2      2015-01-01_0_VILLA CRESPO  2015-01-01         0      VILLA CRESPO\n",
       "3  2015-01-01_0_VILLA DEL PARQUE  2015-01-01         0  VILLA DEL PARQUE\n",
       "4           2015-01-01_0_ALMAGRO  2015-01-01         0           ALMAGRO"
      ]
     },
     "execution_count": 29,
     "metadata": {},
     "output_type": "execute_result"
    }
   ],
   "source": [
    "date_hour_barrio_df.head()"
   ]
  },
  {
   "cell_type": "code",
   "execution_count": 30,
   "metadata": {},
   "outputs": [],
   "source": [
    "#full_df\n",
    "#full_df.to_csv('solo_accidentes.csv')"
   ]
  },
  {
   "cell_type": "code",
   "execution_count": 31,
   "metadata": {},
   "outputs": [],
   "source": [
    "#pd.read_csv('solo_accidentes.csv').drop('Unnamed: 0', axis=1)"
   ]
  },
  {
   "cell_type": "code",
   "execution_count": 32,
   "metadata": {},
   "outputs": [],
   "source": [
    "#siniestros_df.to_csv('solo_accidentes_v2.csv')"
   ]
  },
  {
   "cell_type": "code",
   "execution_count": 33,
   "metadata": {},
   "outputs": [],
   "source": [
    "#full_df = pd.read_csv('solo_accidentes.csv').drop('Unnamed: 0', axis=1)"
   ]
  },
  {
   "cell_type": "markdown",
   "metadata": {},
   "source": [
    " "
   ]
  },
  {
   "cell_type": "markdown",
   "metadata": {},
   "source": [
    " "
   ]
  },
  {
   "cell_type": "markdown",
   "metadata": {},
   "source": [
    "`Unión de dataframe de accidentes y no accidentes`"
   ]
  },
  {
   "cell_type": "code",
   "execution_count": 34,
   "metadata": {},
   "outputs": [],
   "source": [
    "#Append de Sinistros DF con Dates Combined + Merge con clima\n",
    "full_df = siniestros_df.append(date_hour_barrio_df.drop('Key_final',axis=1), ignore_index=True)"
   ]
  },
  {
   "cell_type": "code",
   "execution_count": 35,
   "metadata": {},
   "outputs": [],
   "source": [
    "full_df['fecha_std_datetime'] = full_df['fecha_std'].apply(lambda d: pd.to_datetime(d))"
   ]
  },
  {
   "cell_type": "code",
   "execution_count": 36,
   "metadata": {},
   "outputs": [],
   "source": [
    "#Creamos una columna que tiene únicamente el dia y el mes\n",
    "full_df['dia/mes'] = full_df['fecha_std_datetime'].apply(lambda f: str(f.day)+'/'+str(f.month))"
   ]
  },
  {
   "cell_type": "code",
   "execution_count": 37,
   "metadata": {},
   "outputs": [
    {
     "name": "stdout",
     "output_type": "stream",
     "text": [
      "<class 'geopandas.geodataframe.GeoDataFrame'>\n",
      "RangeIndex: 1439983 entries, 0 to 1439982\n",
      "Data columns (total 36 columns):\n",
      " #   Column                        Non-Null Count    Dtype         \n",
      "---  ------                        --------------    -----         \n",
      " 0   causa                         33162 non-null    object        \n",
      " 1   rol                           32830 non-null    object        \n",
      " 2   tipo                          32067 non-null    object        \n",
      " 3   sexo                          32969 non-null    object        \n",
      " 4   edad                          32610 non-null    float64       \n",
      " 5   mes                           33162 non-null    float64       \n",
      " 6   periodo                       33162 non-null    float64       \n",
      " 7   fecha                         33162 non-null    object        \n",
      " 8   hora                          33162 non-null    object        \n",
      " 9   lugar_hecho                   29462 non-null    object        \n",
      " 10  direccion_normalizada         32403 non-null    object        \n",
      " 11  tipo_calle                    33162 non-null    object        \n",
      " 12  direccion_normalizada_arcgis  32396 non-null    object        \n",
      " 13  calle1                        32403 non-null    object        \n",
      " 14  altura                        7094 non-null     float64       \n",
      " 15  calle2                        24941 non-null    object        \n",
      " 16  codigo_calle                  23890 non-null    float64       \n",
      " 17  codigo_cruce                  20659 non-null    float64       \n",
      " 18  geocodificacion               32074 non-null    object        \n",
      " 19  semestre                      33162 non-null    float64       \n",
      " 20  x                             32074 non-null    float64       \n",
      " 21  y                             32074 non-null    float64       \n",
      " 22  geom                          32074 non-null    object        \n",
      " 23  cantidad_victimas             33162 non-null    float64       \n",
      " 24  comuna                        32071 non-null    float64       \n",
      " 25  geom_3857                     32074 non-null    object        \n",
      " 26  tipo_colision1                31829 non-null    object        \n",
      " 27  participantes_victimas        32036 non-null    object        \n",
      " 28  participantes_acusados        32488 non-null    object        \n",
      " 29  geometry                      33162 non-null    geometry      \n",
      " 30  Barrio                        1438895 non-null  object        \n",
      " 31  dia                           33162 non-null    object        \n",
      " 32  fecha_std                     1439983 non-null  object        \n",
      " 33  solo_hora                     1439983 non-null  object        \n",
      " 34  fecha_std_datetime            1439983 non-null  datetime64[ns]\n",
      " 35  dia/mes                       1439983 non-null  object        \n",
      "dtypes: datetime64[ns](1), float64(11), geometry(1), object(23)\n",
      "memory usage: 395.5+ MB\n"
     ]
    }
   ],
   "source": [
    "full_df.info()"
   ]
  },
  {
   "cell_type": "code",
   "execution_count": 38,
   "metadata": {},
   "outputs": [
    {
     "data": {
      "text/html": [
       "<div>\n",
       "<style scoped>\n",
       "    .dataframe tbody tr th:only-of-type {\n",
       "        vertical-align: middle;\n",
       "    }\n",
       "\n",
       "    .dataframe tbody tr th {\n",
       "        vertical-align: top;\n",
       "    }\n",
       "\n",
       "    .dataframe thead th {\n",
       "        text-align: right;\n",
       "    }\n",
       "</style>\n",
       "<table border=\"1\" class=\"dataframe\">\n",
       "  <thead>\n",
       "    <tr style=\"text-align: right;\">\n",
       "      <th></th>\n",
       "      <th>causa</th>\n",
       "      <th>rol</th>\n",
       "      <th>tipo</th>\n",
       "      <th>sexo</th>\n",
       "      <th>edad</th>\n",
       "      <th>mes</th>\n",
       "      <th>periodo</th>\n",
       "      <th>fecha</th>\n",
       "      <th>hora</th>\n",
       "      <th>lugar_hecho</th>\n",
       "      <th>...</th>\n",
       "      <th>tipo_colision1</th>\n",
       "      <th>participantes_victimas</th>\n",
       "      <th>participantes_acusados</th>\n",
       "      <th>geometry</th>\n",
       "      <th>Barrio</th>\n",
       "      <th>dia</th>\n",
       "      <th>fecha_std</th>\n",
       "      <th>solo_hora</th>\n",
       "      <th>fecha_std_datetime</th>\n",
       "      <th>dia/mes</th>\n",
       "    </tr>\n",
       "  </thead>\n",
       "  <tbody>\n",
       "    <tr>\n",
       "      <th>0</th>\n",
       "      <td>homicidio</td>\n",
       "      <td>conductor</td>\n",
       "      <td>moto</td>\n",
       "      <td>NaN</td>\n",
       "      <td>NaN</td>\n",
       "      <td>2.0</td>\n",
       "      <td>2015.0</td>\n",
       "      <td>2/14/2015</td>\n",
       "      <td>19:00:00</td>\n",
       "      <td>cafayate y severo garcia grande de zequeira</td>\n",
       "      <td>...</td>\n",
       "      <td>motovehiculo - vehiculo</td>\n",
       "      <td>moto</td>\n",
       "      <td>automovil</td>\n",
       "      <td>POINT (-58.50866 -34.65349)</td>\n",
       "      <td>MATADEROS</td>\n",
       "      <td>14</td>\n",
       "      <td>2015-02-14</td>\n",
       "      <td>19</td>\n",
       "      <td>2015-02-14</td>\n",
       "      <td>14/2</td>\n",
       "    </tr>\n",
       "    <tr>\n",
       "      <th>1</th>\n",
       "      <td>homicidio</td>\n",
       "      <td>NaN</td>\n",
       "      <td>NaN</td>\n",
       "      <td>NaN</td>\n",
       "      <td>NaN</td>\n",
       "      <td>2.0</td>\n",
       "      <td>2015.0</td>\n",
       "      <td>2/25/2015</td>\n",
       "      <td>3:00:00</td>\n",
       "      <td>lugones, leopoldo av. y udaondo, guillermo av.</td>\n",
       "      <td>...</td>\n",
       "      <td>NaN</td>\n",
       "      <td>NaN</td>\n",
       "      <td>NaN</td>\n",
       "      <td>POINT (-58.44768 -34.54351)</td>\n",
       "      <td>BELGRANO</td>\n",
       "      <td>25</td>\n",
       "      <td>2015-02-25</td>\n",
       "      <td>3</td>\n",
       "      <td>2015-02-25</td>\n",
       "      <td>25/2</td>\n",
       "    </tr>\n",
       "    <tr>\n",
       "      <th>2</th>\n",
       "      <td>homicidio</td>\n",
       "      <td>peaton</td>\n",
       "      <td>peaton</td>\n",
       "      <td>femenino</td>\n",
       "      <td>NaN</td>\n",
       "      <td>2.0</td>\n",
       "      <td>2015.0</td>\n",
       "      <td>2/27/2015</td>\n",
       "      <td>8:00:00</td>\n",
       "      <td>avda jujuy y avda independencia</td>\n",
       "      <td>...</td>\n",
       "      <td>peaton - vehiculo</td>\n",
       "      <td>peaton</td>\n",
       "      <td>\"transporte publico\"</td>\n",
       "      <td>POINT (-58.40352 -34.61884)</td>\n",
       "      <td>BALVANERA</td>\n",
       "      <td>27</td>\n",
       "      <td>2015-02-27</td>\n",
       "      <td>8</td>\n",
       "      <td>2015-02-27</td>\n",
       "      <td>27/2</td>\n",
       "    </tr>\n",
       "    <tr>\n",
       "      <th>3</th>\n",
       "      <td>homicidio</td>\n",
       "      <td>NaN</td>\n",
       "      <td>NaN</td>\n",
       "      <td>NaN</td>\n",
       "      <td>NaN</td>\n",
       "      <td>3.0</td>\n",
       "      <td>2015.0</td>\n",
       "      <td>03/02/15</td>\n",
       "      <td>18:30:00</td>\n",
       "      <td>lavalle 1730</td>\n",
       "      <td>...</td>\n",
       "      <td>NaN</td>\n",
       "      <td>NaN</td>\n",
       "      <td>NaN</td>\n",
       "      <td>POINT (-58.39133 -34.60317)</td>\n",
       "      <td>SAN NICOLAS</td>\n",
       "      <td>02</td>\n",
       "      <td>2015-03-02</td>\n",
       "      <td>18</td>\n",
       "      <td>2015-03-02</td>\n",
       "      <td>2/3</td>\n",
       "    </tr>\n",
       "    <tr>\n",
       "      <th>4</th>\n",
       "      <td>homicidio</td>\n",
       "      <td>pasajero</td>\n",
       "      <td>camion</td>\n",
       "      <td>masculino</td>\n",
       "      <td>NaN</td>\n",
       "      <td>4.0</td>\n",
       "      <td>2015.0</td>\n",
       "      <td>04/09/15</td>\n",
       "      <td>1:20:00</td>\n",
       "      <td>ave salvador m del carril 2434</td>\n",
       "      <td>...</td>\n",
       "      <td>vehiculo - vehiculo</td>\n",
       "      <td>camion</td>\n",
       "      <td>camion</td>\n",
       "      <td>POINT (-58.49290 -34.58749)</td>\n",
       "      <td>AGRONOMIA</td>\n",
       "      <td>09</td>\n",
       "      <td>2015-04-09</td>\n",
       "      <td>1</td>\n",
       "      <td>2015-04-09</td>\n",
       "      <td>9/4</td>\n",
       "    </tr>\n",
       "  </tbody>\n",
       "</table>\n",
       "<p>5 rows × 36 columns</p>\n",
       "</div>"
      ],
      "text/plain": [
       "       causa        rol    tipo       sexo  edad  mes  periodo      fecha  \\\n",
       "0  homicidio  conductor    moto        NaN   NaN  2.0   2015.0  2/14/2015   \n",
       "1  homicidio        NaN     NaN        NaN   NaN  2.0   2015.0  2/25/2015   \n",
       "2  homicidio     peaton  peaton   femenino   NaN  2.0   2015.0  2/27/2015   \n",
       "3  homicidio        NaN     NaN        NaN   NaN  3.0   2015.0   03/02/15   \n",
       "4  homicidio   pasajero  camion  masculino   NaN  4.0   2015.0   04/09/15   \n",
       "\n",
       "       hora                                     lugar_hecho  ...  \\\n",
       "0  19:00:00     cafayate y severo garcia grande de zequeira  ...   \n",
       "1   3:00:00  lugones, leopoldo av. y udaondo, guillermo av.  ...   \n",
       "2   8:00:00                 avda jujuy y avda independencia  ...   \n",
       "3  18:30:00                                    lavalle 1730  ...   \n",
       "4   1:20:00                  ave salvador m del carril 2434  ...   \n",
       "\n",
       "            tipo_colision1 participantes_victimas participantes_acusados  \\\n",
       "0  motovehiculo - vehiculo                   moto              automovil   \n",
       "1                      NaN                    NaN                    NaN   \n",
       "2        peaton - vehiculo                 peaton   \"transporte publico\"   \n",
       "3                      NaN                    NaN                    NaN   \n",
       "4      vehiculo - vehiculo                 camion                 camion   \n",
       "\n",
       "                      geometry       Barrio dia   fecha_std  solo_hora  \\\n",
       "0  POINT (-58.50866 -34.65349)    MATADEROS  14  2015-02-14         19   \n",
       "1  POINT (-58.44768 -34.54351)     BELGRANO  25  2015-02-25          3   \n",
       "2  POINT (-58.40352 -34.61884)    BALVANERA  27  2015-02-27          8   \n",
       "3  POINT (-58.39133 -34.60317)  SAN NICOLAS  02  2015-03-02         18   \n",
       "4  POINT (-58.49290 -34.58749)    AGRONOMIA  09  2015-04-09          1   \n",
       "\n",
       "  fecha_std_datetime  dia/mes  \n",
       "0         2015-02-14     14/2  \n",
       "1         2015-02-25     25/2  \n",
       "2         2015-02-27     27/2  \n",
       "3         2015-03-02      2/3  \n",
       "4         2015-04-09      9/4  \n",
       "\n",
       "[5 rows x 36 columns]"
      ]
     },
     "execution_count": 38,
     "metadata": {},
     "output_type": "execute_result"
    }
   ],
   "source": [
    "full_df.head()"
   ]
  },
  {
   "cell_type": "markdown",
   "metadata": {},
   "source": [
    " "
   ]
  },
  {
   "cell_type": "markdown",
   "metadata": {},
   "source": [
    " "
   ]
  },
  {
   "cell_type": "markdown",
   "metadata": {},
   "source": [
    "`Agregado de variables que pueden influir en la ocurrencia de un accidente`"
   ]
  },
  {
   "cell_type": "markdown",
   "metadata": {},
   "source": [
    "### ==> Variable: Estación del año <=="
   ]
  },
  {
   "cell_type": "code",
   "execution_count": 39,
   "metadata": {},
   "outputs": [],
   "source": [
    "Y = 2015\n",
    "estaciones = [('verano', (date(Y,  1,  1),  date(Y,  3, 20))),\n",
    "           ('otoño', (date(Y,  3, 21),  date(Y,  6, 20))),\n",
    "           ('invierno', (date(Y,  6, 21),  date(Y,  9, 22))),\n",
    "           ('primavera', (date(Y,  9, 23),  date(Y, 12, 20))),\n",
    "           ('verano', (date(Y, 12, 21),  date(Y, 12, 31)))]"
   ]
  },
  {
   "cell_type": "code",
   "execution_count": 40,
   "metadata": {},
   "outputs": [],
   "source": [
    "def obtener_estacion(fecha):\n",
    "    '''\n",
    "    Obteniene la estación del año a la cual pertenece una fecha.\n",
    "\n",
    "    Parameters\n",
    "    ----------\n",
    "    fecha : fecha de la cual se desea conocer la estación.\n",
    "    '''\n",
    "    if isinstance(fecha, datetime):\n",
    "        fecha = fecha.date()\n",
    "        \n",
    "    #print(fecha.day==29)\n",
    "    #print(fecha.month==2)\n",
    "    if fecha.day == 29 and fecha.month == 2:\n",
    "        #print(fecha)\n",
    "        fecha = fecha - timedelta(1)\n",
    "        #print(fecha)\n",
    "        \n",
    "    fecha = fecha.replace(year=Y) #reemplaza cualquier año por el 2015 (o lo definido en la variable Y)\n",
    "    return next(estacion for estacion, (empieza, termina) in estaciones\n",
    "                if empieza <= fecha <= termina)\n"
   ]
  },
  {
   "cell_type": "code",
   "execution_count": 41,
   "metadata": {},
   "outputs": [],
   "source": [
    "full_df['estacion'] = full_df['fecha_std_datetime'].apply(lambda f: obtener_estacion(f))"
   ]
  },
  {
   "cell_type": "markdown",
   "metadata": {},
   "source": [
    " "
   ]
  },
  {
   "cell_type": "markdown",
   "metadata": {},
   "source": [
    "### ==> Variable: Fin de semana <=="
   ]
  },
  {
   "cell_type": "code",
   "execution_count": 42,
   "metadata": {},
   "outputs": [],
   "source": [
    "full_df['dia_semana'] = full_df.fecha_std_datetime.apply(lambda f: f.strftime(\"%A\"))"
   ]
  },
  {
   "cell_type": "code",
   "execution_count": 43,
   "metadata": {},
   "outputs": [],
   "source": [
    "def get_dummie_day(day):\n",
    "    '''\n",
    "    Convierte en dummie dependiendo si una `fecha` es día hábil o no.\n",
    "\n",
    "    Parameters\n",
    "    ----------\n",
    "    day : día del cual se desea obtener la variable dummie.\n",
    "    '''\n",
    "    \n",
    "    if day in ['Saturday', 'Sunday']:\n",
    "        return 1\n",
    "    else:\n",
    "        return 0"
   ]
  },
  {
   "cell_type": "code",
   "execution_count": 44,
   "metadata": {},
   "outputs": [],
   "source": [
    "full_df['fin_de_semana_dummie'] = full_df['dia_semana'].apply(lambda d: get_dummie_day(d))"
   ]
  },
  {
   "cell_type": "code",
   "execution_count": null,
   "metadata": {},
   "outputs": [],
   "source": [
    "#full_df#[['fecha_std', 'solo_hora', 'dia/mes', 'Barrio', 'estacion', 'fin_de_semana_dummie']]"
   ]
  },
  {
   "cell_type": "code",
   "execution_count": null,
   "metadata": {},
   "outputs": [],
   "source": []
  },
  {
   "cell_type": "markdown",
   "metadata": {},
   "source": [
    " "
   ]
  },
  {
   "cell_type": "markdown",
   "metadata": {},
   "source": [
    "### ==> Variable: Estado del clima <=="
   ]
  },
  {
   "cell_type": "markdown",
   "metadata": {
    "jupyter": {
     "outputs_hidden": true
    }
   },
   "source": [
    "`Levantamos el dataset del clima`\n",
    "\n",
    "<p>Para obtener esta información, realizamos un scrapping sobre la página <a href=\"https://www.wunderground.com/\">Wunderground</a>.\n",
    "\n",
    "La base de este scrapping fue obtenido gracias al Profesor Felix Penna. Utilizando dicha .ipynb como apoyo, sumado a algunos cambios que realizamos, logramos sacar la información del clima para cada fecha y hora comprendida entre el 01/01/2015 y el 31/05/2018, dado que la información de siniestros disponible data el mismo rango de fechas. Esta data la guardamos en el csv `info_clima.csv`<br> Sin embargo, hubieron algunas fechas para las cuales la página no devolvía información alguna, por lo que luego estos registros serán descartados.</p>"
   ]
  },
  {
   "cell_type": "code",
   "execution_count": 45,
   "metadata": {},
   "outputs": [],
   "source": [
    "clima_df = pd.read_csv('info_clima.csv').drop(['Unnamed: 0', 'Rain_Ml'], axis=1)"
   ]
  },
  {
   "cell_type": "code",
   "execution_count": 46,
   "metadata": {},
   "outputs": [
    {
     "data": {
      "text/html": [
       "<div>\n",
       "<style scoped>\n",
       "    .dataframe tbody tr th:only-of-type {\n",
       "        vertical-align: middle;\n",
       "    }\n",
       "\n",
       "    .dataframe tbody tr th {\n",
       "        vertical-align: top;\n",
       "    }\n",
       "\n",
       "    .dataframe thead th {\n",
       "        text-align: right;\n",
       "    }\n",
       "</style>\n",
       "<table border=\"1\" class=\"dataframe\">\n",
       "  <thead>\n",
       "    <tr style=\"text-align: right;\">\n",
       "      <th></th>\n",
       "      <th>Date</th>\n",
       "      <th>Hour</th>\n",
       "      <th>AM/PM</th>\n",
       "      <th>Wind_Speed</th>\n",
       "      <th>Condition</th>\n",
       "      <th>Only_Hour</th>\n",
       "      <th>Full_Hour</th>\n",
       "    </tr>\n",
       "  </thead>\n",
       "  <tbody>\n",
       "    <tr>\n",
       "      <th>0</th>\n",
       "      <td>2015-01-01</td>\n",
       "      <td>12:00</td>\n",
       "      <td>AM</td>\n",
       "      <td>2.0</td>\n",
       "      <td>Fair</td>\n",
       "      <td>12</td>\n",
       "      <td>0.0</td>\n",
       "    </tr>\n",
       "    <tr>\n",
       "      <th>1</th>\n",
       "      <td>2015-01-01</td>\n",
       "      <td>1:00</td>\n",
       "      <td>AM</td>\n",
       "      <td>2.0</td>\n",
       "      <td>Fair</td>\n",
       "      <td>1</td>\n",
       "      <td>1.0</td>\n",
       "    </tr>\n",
       "    <tr>\n",
       "      <th>2</th>\n",
       "      <td>2015-01-01</td>\n",
       "      <td>2:00</td>\n",
       "      <td>AM</td>\n",
       "      <td>7.0</td>\n",
       "      <td>Mostly Cloudy</td>\n",
       "      <td>2</td>\n",
       "      <td>2.0</td>\n",
       "    </tr>\n",
       "    <tr>\n",
       "      <th>3</th>\n",
       "      <td>2015-01-01</td>\n",
       "      <td>3:00</td>\n",
       "      <td>AM</td>\n",
       "      <td>9.0</td>\n",
       "      <td>Fair</td>\n",
       "      <td>3</td>\n",
       "      <td>3.0</td>\n",
       "    </tr>\n",
       "    <tr>\n",
       "      <th>4</th>\n",
       "      <td>2015-01-01</td>\n",
       "      <td>4:00</td>\n",
       "      <td>AM</td>\n",
       "      <td>7.0</td>\n",
       "      <td>Fair</td>\n",
       "      <td>4</td>\n",
       "      <td>4.0</td>\n",
       "    </tr>\n",
       "  </tbody>\n",
       "</table>\n",
       "</div>"
      ],
      "text/plain": [
       "         Date   Hour AM/PM  Wind_Speed      Condition  Only_Hour  Full_Hour\n",
       "0  2015-01-01  12:00    AM         2.0           Fair         12        0.0\n",
       "1  2015-01-01   1:00    AM         2.0           Fair          1        1.0\n",
       "2  2015-01-01   2:00    AM         7.0  Mostly Cloudy          2        2.0\n",
       "3  2015-01-01   3:00    AM         9.0           Fair          3        3.0\n",
       "4  2015-01-01   4:00    AM         7.0           Fair          4        4.0"
      ]
     },
     "execution_count": 46,
     "metadata": {},
     "output_type": "execute_result"
    }
   ],
   "source": [
    "clima_df.head()"
   ]
  },
  {
   "cell_type": "markdown",
   "metadata": {},
   "source": [
    "> La columna \"Condition\" del dataset de clima contiene información sobre cómo estaba el clima en general ese día. Dada la variedad de distintas respuestas, y considerando que esta es una variable que posteriormente va a ser \"dummificada\", para reducir la dimensionalidad del dataset, homogeneizamos las respuestas. Es por ello que creamos el diccionario map_weather."
   ]
  },
  {
   "cell_type": "code",
   "execution_count": 47,
   "metadata": {},
   "outputs": [],
   "source": [
    "#Disminuimos la cantidad de valores en Condition\n",
    "map_weather = {'Fair / Windy':\"Windy\",\n",
    "'Fair':\"Fair\",\n",
    "'Partly Cloudy':\"Cloudy\",\n",
    "'Mostly Cloudy':\"Cloudy\",\n",
    "'Cloudy':\"Cloudy\",\n",
    "'Drizzle':\"Drizzle\",\n",
    "'Thunder':\"Storm\",\n",
    "'Light Rain with Thunder':\"Storm\",\n",
    "'T-Storm':\"Storm\",\n",
    "'Fog':\"Fog\",\n",
    "'Rain Shower':\"Rain\",\n",
    "'Cloudy / Windy':\"Windy\",\n",
    "'Light Rain':\"Rain\",\n",
    "'Rain':\"Rain\",\n",
    "'Heavy Rain':\"Rain\",\n",
    "'Rain Shower / Windy':\"Rain\",\n",
    "'Mostly Cloudy / Windy':\"Cloudy\",\n",
    "'Shallow Fog':\"Fog\",\n",
    "'Light Drizzle':\"Drizzle\",\n",
    "'Haze':\"Fog\",\n",
    " 'Partly Cloudy / Windy':\"Windy\",\n",
    " 'Heavy T-Storm':\"Storm\",\n",
    " 'Smoke':\"Fog\",\n",
    " 'Heavy Rain Shower':\"Rain\",\n",
    " 'Thunder in the Vicinity':\"Storm\",\n",
    " 'Drizzle and Fog':\"Fog\",\n",
    " 'Rain / Windy':\"Rain\",\n",
    " 'Mist':\"Fog\",\n",
    " 'Light Rain / Windy':\"Rain\",\n",
    " 'T-Storm / Windy':\"Storm\",\n",
    " 'Heavy T-Storm / Windy':\"Storm\",\n",
    " 'Low Drifting Dust':\"Fog\",\n",
    " 'Thunder and Hail':\"Storm\",\n",
    " 'Thunder and Hail /':\"Storm\",\n",
    " 'Heavy Drizzle':\"Drizzle\",\n",
    " 'Heavy Drizzle / Windy':\"Drizzle\",\n",
    " 'Drizzle / Windy':\"Drizzle\",\n",
    " 'Volcanic Ash':\"Volcanic Ash\",\n",
    " 'Light Drizzle / Windy':\"Windy\",\n",
    " 'Showers in the Vicinity':\"Rain\",\n",
    " 'Light Rain Shower':\"Rain\",\n",
    " 'Thunder / Windy':\"Storm\",\n",
    " 'Duststorm':\"Storm\"}"
   ]
  },
  {
   "cell_type": "code",
   "execution_count": 48,
   "metadata": {},
   "outputs": [],
   "source": [
    "clima_df['Condition'] = clima_df['Condition'].map(map_weather)"
   ]
  },
  {
   "cell_type": "code",
   "execution_count": 49,
   "metadata": {},
   "outputs": [],
   "source": [
    "clima_df['Date'] = pd.to_datetime(clima_df['Date'])"
   ]
  },
  {
   "cell_type": "code",
   "execution_count": 50,
   "metadata": {},
   "outputs": [],
   "source": [
    "clima_df['Full_Hour'] = clima_df['Full_Hour'].astype(int)"
   ]
  },
  {
   "cell_type": "code",
   "execution_count": null,
   "metadata": {},
   "outputs": [],
   "source": []
  },
  {
   "cell_type": "code",
   "execution_count": 51,
   "metadata": {},
   "outputs": [],
   "source": [
    "full_df['solo_hora']=full_df['solo_hora'].astype(int)"
   ]
  },
  {
   "cell_type": "markdown",
   "metadata": {},
   "source": [
    " "
   ]
  },
  {
   "cell_type": "markdown",
   "metadata": {},
   "source": [
    " "
   ]
  },
  {
   "cell_type": "markdown",
   "metadata": {},
   "source": [
    "`Juntamos la información de accidentes y no accidentes con la de clima`"
   ]
  },
  {
   "cell_type": "code",
   "execution_count": 52,
   "metadata": {},
   "outputs": [],
   "source": [
    "final_df = full_df.merge(clima_df, left_on=['fecha_std_datetime', 'solo_hora'], right_on=['Date', 'Full_Hour'], how='left')#.drop_duplicates()"
   ]
  },
  {
   "cell_type": "markdown",
   "metadata": {},
   "source": [
    "> Descartamos los registros en los cuales falta la información del clima"
   ]
  },
  {
   "cell_type": "code",
   "execution_count": 53,
   "metadata": {},
   "outputs": [],
   "source": [
    "final_df = final_df[(final_df['Wind_Speed'].notnull())]"
   ]
  },
  {
   "cell_type": "code",
   "execution_count": 54,
   "metadata": {},
   "outputs": [
    {
     "data": {
      "text/html": [
       "<div>\n",
       "<style scoped>\n",
       "    .dataframe tbody tr th:only-of-type {\n",
       "        vertical-align: middle;\n",
       "    }\n",
       "\n",
       "    .dataframe tbody tr th {\n",
       "        vertical-align: top;\n",
       "    }\n",
       "\n",
       "    .dataframe thead th {\n",
       "        text-align: right;\n",
       "    }\n",
       "</style>\n",
       "<table border=\"1\" class=\"dataframe\">\n",
       "  <thead>\n",
       "    <tr style=\"text-align: right;\">\n",
       "      <th></th>\n",
       "      <th>causa</th>\n",
       "      <th>rol</th>\n",
       "      <th>tipo</th>\n",
       "      <th>sexo</th>\n",
       "      <th>edad</th>\n",
       "      <th>mes</th>\n",
       "      <th>periodo</th>\n",
       "      <th>fecha</th>\n",
       "      <th>hora</th>\n",
       "      <th>lugar_hecho</th>\n",
       "      <th>...</th>\n",
       "      <th>estacion</th>\n",
       "      <th>dia_semana</th>\n",
       "      <th>fin_de_semana_dummie</th>\n",
       "      <th>Date</th>\n",
       "      <th>Hour</th>\n",
       "      <th>AM/PM</th>\n",
       "      <th>Wind_Speed</th>\n",
       "      <th>Condition</th>\n",
       "      <th>Only_Hour</th>\n",
       "      <th>Full_Hour</th>\n",
       "    </tr>\n",
       "  </thead>\n",
       "  <tbody>\n",
       "    <tr>\n",
       "      <th>0</th>\n",
       "      <td>homicidio</td>\n",
       "      <td>conductor</td>\n",
       "      <td>moto</td>\n",
       "      <td>NaN</td>\n",
       "      <td>NaN</td>\n",
       "      <td>2.0</td>\n",
       "      <td>2015.0</td>\n",
       "      <td>2/14/2015</td>\n",
       "      <td>19:00:00</td>\n",
       "      <td>cafayate y severo garcia grande de zequeira</td>\n",
       "      <td>...</td>\n",
       "      <td>verano</td>\n",
       "      <td>Saturday</td>\n",
       "      <td>1</td>\n",
       "      <td>2015-02-14</td>\n",
       "      <td>7:00</td>\n",
       "      <td>PM</td>\n",
       "      <td>33.0</td>\n",
       "      <td>Windy</td>\n",
       "      <td>7.0</td>\n",
       "      <td>19.0</td>\n",
       "    </tr>\n",
       "    <tr>\n",
       "      <th>1</th>\n",
       "      <td>homicidio</td>\n",
       "      <td>NaN</td>\n",
       "      <td>NaN</td>\n",
       "      <td>NaN</td>\n",
       "      <td>NaN</td>\n",
       "      <td>2.0</td>\n",
       "      <td>2015.0</td>\n",
       "      <td>2/25/2015</td>\n",
       "      <td>3:00:00</td>\n",
       "      <td>lugones, leopoldo av. y udaondo, guillermo av.</td>\n",
       "      <td>...</td>\n",
       "      <td>verano</td>\n",
       "      <td>Wednesday</td>\n",
       "      <td>0</td>\n",
       "      <td>2015-02-25</td>\n",
       "      <td>3:00</td>\n",
       "      <td>AM</td>\n",
       "      <td>24.0</td>\n",
       "      <td>Fair</td>\n",
       "      <td>3.0</td>\n",
       "      <td>3.0</td>\n",
       "    </tr>\n",
       "    <tr>\n",
       "      <th>2</th>\n",
       "      <td>homicidio</td>\n",
       "      <td>peaton</td>\n",
       "      <td>peaton</td>\n",
       "      <td>femenino</td>\n",
       "      <td>NaN</td>\n",
       "      <td>2.0</td>\n",
       "      <td>2015.0</td>\n",
       "      <td>2/27/2015</td>\n",
       "      <td>8:00:00</td>\n",
       "      <td>avda jujuy y avda independencia</td>\n",
       "      <td>...</td>\n",
       "      <td>verano</td>\n",
       "      <td>Friday</td>\n",
       "      <td>0</td>\n",
       "      <td>2015-02-27</td>\n",
       "      <td>8:00</td>\n",
       "      <td>AM</td>\n",
       "      <td>20.0</td>\n",
       "      <td>Cloudy</td>\n",
       "      <td>8.0</td>\n",
       "      <td>8.0</td>\n",
       "    </tr>\n",
       "    <tr>\n",
       "      <th>3</th>\n",
       "      <td>homicidio</td>\n",
       "      <td>NaN</td>\n",
       "      <td>NaN</td>\n",
       "      <td>NaN</td>\n",
       "      <td>NaN</td>\n",
       "      <td>3.0</td>\n",
       "      <td>2015.0</td>\n",
       "      <td>03/02/15</td>\n",
       "      <td>18:30:00</td>\n",
       "      <td>lavalle 1730</td>\n",
       "      <td>...</td>\n",
       "      <td>verano</td>\n",
       "      <td>Monday</td>\n",
       "      <td>0</td>\n",
       "      <td>2015-03-02</td>\n",
       "      <td>6:00</td>\n",
       "      <td>PM</td>\n",
       "      <td>13.0</td>\n",
       "      <td>Fair</td>\n",
       "      <td>6.0</td>\n",
       "      <td>18.0</td>\n",
       "    </tr>\n",
       "    <tr>\n",
       "      <th>4</th>\n",
       "      <td>homicidio</td>\n",
       "      <td>pasajero</td>\n",
       "      <td>camion</td>\n",
       "      <td>masculino</td>\n",
       "      <td>NaN</td>\n",
       "      <td>4.0</td>\n",
       "      <td>2015.0</td>\n",
       "      <td>04/09/15</td>\n",
       "      <td>1:20:00</td>\n",
       "      <td>ave salvador m del carril 2434</td>\n",
       "      <td>...</td>\n",
       "      <td>otoño</td>\n",
       "      <td>Thursday</td>\n",
       "      <td>0</td>\n",
       "      <td>2015-04-09</td>\n",
       "      <td>1:00</td>\n",
       "      <td>AM</td>\n",
       "      <td>13.0</td>\n",
       "      <td>Fair</td>\n",
       "      <td>1.0</td>\n",
       "      <td>1.0</td>\n",
       "    </tr>\n",
       "  </tbody>\n",
       "</table>\n",
       "<p>5 rows × 46 columns</p>\n",
       "</div>"
      ],
      "text/plain": [
       "       causa        rol    tipo       sexo  edad  mes  periodo      fecha  \\\n",
       "0  homicidio  conductor    moto        NaN   NaN  2.0   2015.0  2/14/2015   \n",
       "1  homicidio        NaN     NaN        NaN   NaN  2.0   2015.0  2/25/2015   \n",
       "2  homicidio     peaton  peaton   femenino   NaN  2.0   2015.0  2/27/2015   \n",
       "3  homicidio        NaN     NaN        NaN   NaN  3.0   2015.0   03/02/15   \n",
       "4  homicidio   pasajero  camion  masculino   NaN  4.0   2015.0   04/09/15   \n",
       "\n",
       "       hora                                     lugar_hecho  ... estacion  \\\n",
       "0  19:00:00     cafayate y severo garcia grande de zequeira  ...   verano   \n",
       "1   3:00:00  lugones, leopoldo av. y udaondo, guillermo av.  ...   verano   \n",
       "2   8:00:00                 avda jujuy y avda independencia  ...   verano   \n",
       "3  18:30:00                                    lavalle 1730  ...   verano   \n",
       "4   1:20:00                  ave salvador m del carril 2434  ...    otoño   \n",
       "\n",
       "  dia_semana fin_de_semana_dummie       Date  Hour AM/PM  Wind_Speed  \\\n",
       "0   Saturday                    1 2015-02-14  7:00    PM        33.0   \n",
       "1  Wednesday                    0 2015-02-25  3:00    AM        24.0   \n",
       "2     Friday                    0 2015-02-27  8:00    AM        20.0   \n",
       "3     Monday                    0 2015-03-02  6:00    PM        13.0   \n",
       "4   Thursday                    0 2015-04-09  1:00    AM        13.0   \n",
       "\n",
       "   Condition Only_Hour  Full_Hour  \n",
       "0      Windy       7.0       19.0  \n",
       "1       Fair       3.0        3.0  \n",
       "2     Cloudy       8.0        8.0  \n",
       "3       Fair       6.0       18.0  \n",
       "4       Fair       1.0        1.0  \n",
       "\n",
       "[5 rows x 46 columns]"
      ]
     },
     "execution_count": 54,
     "metadata": {},
     "output_type": "execute_result"
    }
   ],
   "source": [
    "final_df.head()"
   ]
  },
  {
   "cell_type": "code",
   "execution_count": null,
   "metadata": {},
   "outputs": [],
   "source": []
  },
  {
   "cell_type": "markdown",
   "metadata": {},
   "source": [
    " "
   ]
  },
  {
   "cell_type": "markdown",
   "metadata": {},
   "source": [
    "`Levantamos la información de días feriados`"
   ]
  },
  {
   "cell_type": "code",
   "execution_count": 55,
   "metadata": {},
   "outputs": [],
   "source": [
    "feriados= pd.read_csv('Feriados_15-18.csv',delimiter=\";\")"
   ]
  },
  {
   "cell_type": "code",
   "execution_count": 56,
   "metadata": {},
   "outputs": [],
   "source": [
    "feriados = feriados[feriados['FECHA']<='2018-05-31']"
   ]
  },
  {
   "cell_type": "code",
   "execution_count": 57,
   "metadata": {},
   "outputs": [],
   "source": [
    "feriados['FECHA'] = pd.to_datetime(feriados['FECHA'], format=\"%d/%m/%Y\")"
   ]
  },
  {
   "cell_type": "markdown",
   "metadata": {},
   "source": [
    "Se la agregamos al dataset de accidentes y no accidentes"
   ]
  },
  {
   "cell_type": "code",
   "execution_count": 58,
   "metadata": {},
   "outputs": [],
   "source": [
    "final_df=pd.merge(final_df,feriados,how='left', left_on=\"fecha_std_datetime\", right_on=\"FECHA\")"
   ]
  },
  {
   "cell_type": "code",
   "execution_count": 59,
   "metadata": {},
   "outputs": [],
   "source": [
    "final_df=final_df.drop(['FECHA'],axis=1)"
   ]
  },
  {
   "cell_type": "code",
   "execution_count": 60,
   "metadata": {},
   "outputs": [],
   "source": [
    "final_df['FERIADO'].fillna(0, inplace=True)"
   ]
  },
  {
   "cell_type": "code",
   "execution_count": 61,
   "metadata": {},
   "outputs": [
    {
     "data": {
      "text/html": [
       "<div>\n",
       "<style scoped>\n",
       "    .dataframe tbody tr th:only-of-type {\n",
       "        vertical-align: middle;\n",
       "    }\n",
       "\n",
       "    .dataframe tbody tr th {\n",
       "        vertical-align: top;\n",
       "    }\n",
       "\n",
       "    .dataframe thead th {\n",
       "        text-align: right;\n",
       "    }\n",
       "</style>\n",
       "<table border=\"1\" class=\"dataframe\">\n",
       "  <thead>\n",
       "    <tr style=\"text-align: right;\">\n",
       "      <th></th>\n",
       "      <th>causa</th>\n",
       "      <th>rol</th>\n",
       "      <th>tipo</th>\n",
       "      <th>sexo</th>\n",
       "      <th>edad</th>\n",
       "      <th>mes</th>\n",
       "      <th>periodo</th>\n",
       "      <th>fecha</th>\n",
       "      <th>hora</th>\n",
       "      <th>lugar_hecho</th>\n",
       "      <th>...</th>\n",
       "      <th>dia_semana</th>\n",
       "      <th>fin_de_semana_dummie</th>\n",
       "      <th>Date</th>\n",
       "      <th>Hour</th>\n",
       "      <th>AM/PM</th>\n",
       "      <th>Wind_Speed</th>\n",
       "      <th>Condition</th>\n",
       "      <th>Only_Hour</th>\n",
       "      <th>Full_Hour</th>\n",
       "      <th>FERIADO</th>\n",
       "    </tr>\n",
       "  </thead>\n",
       "  <tbody>\n",
       "    <tr>\n",
       "      <th>0</th>\n",
       "      <td>homicidio</td>\n",
       "      <td>conductor</td>\n",
       "      <td>moto</td>\n",
       "      <td>NaN</td>\n",
       "      <td>NaN</td>\n",
       "      <td>2.0</td>\n",
       "      <td>2015.0</td>\n",
       "      <td>2/14/2015</td>\n",
       "      <td>19:00:00</td>\n",
       "      <td>cafayate y severo garcia grande de zequeira</td>\n",
       "      <td>...</td>\n",
       "      <td>Saturday</td>\n",
       "      <td>1</td>\n",
       "      <td>2015-02-14</td>\n",
       "      <td>7:00</td>\n",
       "      <td>PM</td>\n",
       "      <td>33.0</td>\n",
       "      <td>Windy</td>\n",
       "      <td>7.0</td>\n",
       "      <td>19.0</td>\n",
       "      <td>0.0</td>\n",
       "    </tr>\n",
       "    <tr>\n",
       "      <th>1</th>\n",
       "      <td>homicidio</td>\n",
       "      <td>NaN</td>\n",
       "      <td>NaN</td>\n",
       "      <td>NaN</td>\n",
       "      <td>NaN</td>\n",
       "      <td>2.0</td>\n",
       "      <td>2015.0</td>\n",
       "      <td>2/25/2015</td>\n",
       "      <td>3:00:00</td>\n",
       "      <td>lugones, leopoldo av. y udaondo, guillermo av.</td>\n",
       "      <td>...</td>\n",
       "      <td>Wednesday</td>\n",
       "      <td>0</td>\n",
       "      <td>2015-02-25</td>\n",
       "      <td>3:00</td>\n",
       "      <td>AM</td>\n",
       "      <td>24.0</td>\n",
       "      <td>Fair</td>\n",
       "      <td>3.0</td>\n",
       "      <td>3.0</td>\n",
       "      <td>0.0</td>\n",
       "    </tr>\n",
       "  </tbody>\n",
       "</table>\n",
       "<p>2 rows × 47 columns</p>\n",
       "</div>"
      ],
      "text/plain": [
       "       causa        rol  tipo sexo  edad  mes  periodo      fecha      hora  \\\n",
       "0  homicidio  conductor  moto  NaN   NaN  2.0   2015.0  2/14/2015  19:00:00   \n",
       "1  homicidio        NaN   NaN  NaN   NaN  2.0   2015.0  2/25/2015   3:00:00   \n",
       "\n",
       "                                      lugar_hecho  ... dia_semana  \\\n",
       "0     cafayate y severo garcia grande de zequeira  ...   Saturday   \n",
       "1  lugones, leopoldo av. y udaondo, guillermo av.  ...  Wednesday   \n",
       "\n",
       "  fin_de_semana_dummie       Date  Hour  AM/PM Wind_Speed  Condition  \\\n",
       "0                    1 2015-02-14  7:00     PM       33.0      Windy   \n",
       "1                    0 2015-02-25  3:00     AM       24.0       Fair   \n",
       "\n",
       "   Only_Hour Full_Hour  FERIADO  \n",
       "0        7.0      19.0      0.0  \n",
       "1        3.0       3.0      0.0  \n",
       "\n",
       "[2 rows x 47 columns]"
      ]
     },
     "execution_count": 61,
     "metadata": {},
     "output_type": "execute_result"
    }
   ],
   "source": [
    "final_df.head(2)"
   ]
  },
  {
   "cell_type": "markdown",
   "metadata": {},
   "source": []
  },
  {
   "cell_type": "markdown",
   "metadata": {},
   "source": [
    "`Agrupamos por hora, estación del año, lugar y estado del clima`"
   ]
  },
  {
   "cell_type": "code",
   "execution_count": 62,
   "metadata": {},
   "outputs": [],
   "source": [
    "#La columna 'causa' nunca va está vacía, por lo que quedandonos con esa columna, nos aseguramos contar los registros bien\n",
    "grouped_df = pd.DataFrame(final_df.groupby(['solo_hora', 'Barrio', 'estacion', 'fin_de_semana_dummie', 'FERIADO', 'Condition']).count().causa.reset_index())#.to_csv('prueba.csv')"
   ]
  },
  {
   "cell_type": "code",
   "execution_count": 63,
   "metadata": {},
   "outputs": [],
   "source": [
    "grouped_df.rename(columns={'causa': 'cantidad_accidentes'}, inplace=True)#.sort_values('causa', ascending=False)"
   ]
  },
  {
   "cell_type": "code",
   "execution_count": 65,
   "metadata": {},
   "outputs": [
    {
     "data": {
      "text/html": [
       "<div>\n",
       "<style scoped>\n",
       "    .dataframe tbody tr th:only-of-type {\n",
       "        vertical-align: middle;\n",
       "    }\n",
       "\n",
       "    .dataframe tbody tr th {\n",
       "        vertical-align: top;\n",
       "    }\n",
       "\n",
       "    .dataframe thead th {\n",
       "        text-align: right;\n",
       "    }\n",
       "</style>\n",
       "<table border=\"1\" class=\"dataframe\">\n",
       "  <thead>\n",
       "    <tr style=\"text-align: right;\">\n",
       "      <th></th>\n",
       "      <th>solo_hora</th>\n",
       "      <th>Barrio</th>\n",
       "      <th>estacion</th>\n",
       "      <th>fin_de_semana_dummie</th>\n",
       "      <th>FERIADO</th>\n",
       "      <th>Condition</th>\n",
       "      <th>cantidad_accidentes</th>\n",
       "    </tr>\n",
       "  </thead>\n",
       "  <tbody>\n",
       "    <tr>\n",
       "      <th>0</th>\n",
       "      <td>0</td>\n",
       "      <td>AGRONOMIA</td>\n",
       "      <td>invierno</td>\n",
       "      <td>0</td>\n",
       "      <td>0.0</td>\n",
       "      <td>Cloudy</td>\n",
       "      <td>0</td>\n",
       "    </tr>\n",
       "    <tr>\n",
       "      <th>1</th>\n",
       "      <td>0</td>\n",
       "      <td>AGRONOMIA</td>\n",
       "      <td>invierno</td>\n",
       "      <td>0</td>\n",
       "      <td>0.0</td>\n",
       "      <td>Drizzle</td>\n",
       "      <td>0</td>\n",
       "    </tr>\n",
       "    <tr>\n",
       "      <th>2</th>\n",
       "      <td>0</td>\n",
       "      <td>AGRONOMIA</td>\n",
       "      <td>invierno</td>\n",
       "      <td>0</td>\n",
       "      <td>0.0</td>\n",
       "      <td>Fair</td>\n",
       "      <td>0</td>\n",
       "    </tr>\n",
       "    <tr>\n",
       "      <th>3</th>\n",
       "      <td>0</td>\n",
       "      <td>AGRONOMIA</td>\n",
       "      <td>invierno</td>\n",
       "      <td>0</td>\n",
       "      <td>0.0</td>\n",
       "      <td>Fog</td>\n",
       "      <td>0</td>\n",
       "    </tr>\n",
       "    <tr>\n",
       "      <th>4</th>\n",
       "      <td>0</td>\n",
       "      <td>AGRONOMIA</td>\n",
       "      <td>invierno</td>\n",
       "      <td>0</td>\n",
       "      <td>0.0</td>\n",
       "      <td>Rain</td>\n",
       "      <td>0</td>\n",
       "    </tr>\n",
       "  </tbody>\n",
       "</table>\n",
       "</div>"
      ],
      "text/plain": [
       "   solo_hora     Barrio  estacion  fin_de_semana_dummie  FERIADO Condition  \\\n",
       "0          0  AGRONOMIA  invierno                     0      0.0    Cloudy   \n",
       "1          0  AGRONOMIA  invierno                     0      0.0   Drizzle   \n",
       "2          0  AGRONOMIA  invierno                     0      0.0      Fair   \n",
       "3          0  AGRONOMIA  invierno                     0      0.0       Fog   \n",
       "4          0  AGRONOMIA  invierno                     0      0.0      Rain   \n",
       "\n",
       "   cantidad_accidentes  \n",
       "0                    0  \n",
       "1                    0  \n",
       "2                    0  \n",
       "3                    0  \n",
       "4                    0  "
      ]
     },
     "execution_count": 65,
     "metadata": {},
     "output_type": "execute_result"
    }
   ],
   "source": [
    "grouped_df.head()"
   ]
  },
  {
   "cell_type": "code",
   "execution_count": 66,
   "metadata": {},
   "outputs": [],
   "source": [
    "grouped_dummie_df = pd.get_dummies(grouped_df.drop(['cantidad_accidentes'], axis=1).astype(str))"
   ]
  },
  {
   "cell_type": "code",
   "execution_count": 67,
   "metadata": {},
   "outputs": [],
   "source": [
    "#groued_dummie_df['dia/mes'] = grouped_df['dia/mes']\n",
    "grouped_dummie_df['cantidad_accidentes'] = grouped_df['cantidad_accidentes']"
   ]
  },
  {
   "cell_type": "code",
   "execution_count": 68,
   "metadata": {},
   "outputs": [
    {
     "data": {
      "text/html": [
       "<div>\n",
       "<style scoped>\n",
       "    .dataframe tbody tr th:only-of-type {\n",
       "        vertical-align: middle;\n",
       "    }\n",
       "\n",
       "    .dataframe tbody tr th {\n",
       "        vertical-align: top;\n",
       "    }\n",
       "\n",
       "    .dataframe thead th {\n",
       "        text-align: right;\n",
       "    }\n",
       "</style>\n",
       "<table border=\"1\" class=\"dataframe\">\n",
       "  <thead>\n",
       "    <tr style=\"text-align: right;\">\n",
       "      <th></th>\n",
       "      <th>solo_hora_0</th>\n",
       "      <th>solo_hora_1</th>\n",
       "      <th>solo_hora_10</th>\n",
       "      <th>solo_hora_11</th>\n",
       "      <th>solo_hora_12</th>\n",
       "      <th>solo_hora_13</th>\n",
       "      <th>solo_hora_14</th>\n",
       "      <th>solo_hora_15</th>\n",
       "      <th>solo_hora_16</th>\n",
       "      <th>solo_hora_17</th>\n",
       "      <th>...</th>\n",
       "      <th>FERIADO_1.0</th>\n",
       "      <th>Condition_Cloudy</th>\n",
       "      <th>Condition_Drizzle</th>\n",
       "      <th>Condition_Fair</th>\n",
       "      <th>Condition_Fog</th>\n",
       "      <th>Condition_Rain</th>\n",
       "      <th>Condition_Storm</th>\n",
       "      <th>Condition_Volcanic Ash</th>\n",
       "      <th>Condition_Windy</th>\n",
       "      <th>cantidad_accidentes</th>\n",
       "    </tr>\n",
       "  </thead>\n",
       "  <tbody>\n",
       "    <tr>\n",
       "      <th>0</th>\n",
       "      <td>1</td>\n",
       "      <td>0</td>\n",
       "      <td>0</td>\n",
       "      <td>0</td>\n",
       "      <td>0</td>\n",
       "      <td>0</td>\n",
       "      <td>0</td>\n",
       "      <td>0</td>\n",
       "      <td>0</td>\n",
       "      <td>0</td>\n",
       "      <td>...</td>\n",
       "      <td>0</td>\n",
       "      <td>1</td>\n",
       "      <td>0</td>\n",
       "      <td>0</td>\n",
       "      <td>0</td>\n",
       "      <td>0</td>\n",
       "      <td>0</td>\n",
       "      <td>0</td>\n",
       "      <td>0</td>\n",
       "      <td>0</td>\n",
       "    </tr>\n",
       "    <tr>\n",
       "      <th>1</th>\n",
       "      <td>1</td>\n",
       "      <td>0</td>\n",
       "      <td>0</td>\n",
       "      <td>0</td>\n",
       "      <td>0</td>\n",
       "      <td>0</td>\n",
       "      <td>0</td>\n",
       "      <td>0</td>\n",
       "      <td>0</td>\n",
       "      <td>0</td>\n",
       "      <td>...</td>\n",
       "      <td>0</td>\n",
       "      <td>0</td>\n",
       "      <td>1</td>\n",
       "      <td>0</td>\n",
       "      <td>0</td>\n",
       "      <td>0</td>\n",
       "      <td>0</td>\n",
       "      <td>0</td>\n",
       "      <td>0</td>\n",
       "      <td>0</td>\n",
       "    </tr>\n",
       "    <tr>\n",
       "      <th>2</th>\n",
       "      <td>1</td>\n",
       "      <td>0</td>\n",
       "      <td>0</td>\n",
       "      <td>0</td>\n",
       "      <td>0</td>\n",
       "      <td>0</td>\n",
       "      <td>0</td>\n",
       "      <td>0</td>\n",
       "      <td>0</td>\n",
       "      <td>0</td>\n",
       "      <td>...</td>\n",
       "      <td>0</td>\n",
       "      <td>0</td>\n",
       "      <td>0</td>\n",
       "      <td>1</td>\n",
       "      <td>0</td>\n",
       "      <td>0</td>\n",
       "      <td>0</td>\n",
       "      <td>0</td>\n",
       "      <td>0</td>\n",
       "      <td>0</td>\n",
       "    </tr>\n",
       "    <tr>\n",
       "      <th>3</th>\n",
       "      <td>1</td>\n",
       "      <td>0</td>\n",
       "      <td>0</td>\n",
       "      <td>0</td>\n",
       "      <td>0</td>\n",
       "      <td>0</td>\n",
       "      <td>0</td>\n",
       "      <td>0</td>\n",
       "      <td>0</td>\n",
       "      <td>0</td>\n",
       "      <td>...</td>\n",
       "      <td>0</td>\n",
       "      <td>0</td>\n",
       "      <td>0</td>\n",
       "      <td>0</td>\n",
       "      <td>1</td>\n",
       "      <td>0</td>\n",
       "      <td>0</td>\n",
       "      <td>0</td>\n",
       "      <td>0</td>\n",
       "      <td>0</td>\n",
       "    </tr>\n",
       "    <tr>\n",
       "      <th>4</th>\n",
       "      <td>1</td>\n",
       "      <td>0</td>\n",
       "      <td>0</td>\n",
       "      <td>0</td>\n",
       "      <td>0</td>\n",
       "      <td>0</td>\n",
       "      <td>0</td>\n",
       "      <td>0</td>\n",
       "      <td>0</td>\n",
       "      <td>0</td>\n",
       "      <td>...</td>\n",
       "      <td>0</td>\n",
       "      <td>0</td>\n",
       "      <td>0</td>\n",
       "      <td>0</td>\n",
       "      <td>0</td>\n",
       "      <td>1</td>\n",
       "      <td>0</td>\n",
       "      <td>0</td>\n",
       "      <td>0</td>\n",
       "      <td>0</td>\n",
       "    </tr>\n",
       "    <tr>\n",
       "      <th>...</th>\n",
       "      <td>...</td>\n",
       "      <td>...</td>\n",
       "      <td>...</td>\n",
       "      <td>...</td>\n",
       "      <td>...</td>\n",
       "      <td>...</td>\n",
       "      <td>...</td>\n",
       "      <td>...</td>\n",
       "      <td>...</td>\n",
       "      <td>...</td>\n",
       "      <td>...</td>\n",
       "      <td>...</td>\n",
       "      <td>...</td>\n",
       "      <td>...</td>\n",
       "      <td>...</td>\n",
       "      <td>...</td>\n",
       "      <td>...</td>\n",
       "      <td>...</td>\n",
       "      <td>...</td>\n",
       "      <td>...</td>\n",
       "      <td>...</td>\n",
       "    </tr>\n",
       "    <tr>\n",
       "      <th>53702</th>\n",
       "      <td>0</td>\n",
       "      <td>0</td>\n",
       "      <td>0</td>\n",
       "      <td>0</td>\n",
       "      <td>0</td>\n",
       "      <td>0</td>\n",
       "      <td>0</td>\n",
       "      <td>0</td>\n",
       "      <td>0</td>\n",
       "      <td>0</td>\n",
       "      <td>...</td>\n",
       "      <td>0</td>\n",
       "      <td>0</td>\n",
       "      <td>0</td>\n",
       "      <td>0</td>\n",
       "      <td>0</td>\n",
       "      <td>1</td>\n",
       "      <td>0</td>\n",
       "      <td>0</td>\n",
       "      <td>0</td>\n",
       "      <td>0</td>\n",
       "    </tr>\n",
       "    <tr>\n",
       "      <th>53703</th>\n",
       "      <td>0</td>\n",
       "      <td>0</td>\n",
       "      <td>0</td>\n",
       "      <td>0</td>\n",
       "      <td>0</td>\n",
       "      <td>0</td>\n",
       "      <td>0</td>\n",
       "      <td>0</td>\n",
       "      <td>0</td>\n",
       "      <td>0</td>\n",
       "      <td>...</td>\n",
       "      <td>0</td>\n",
       "      <td>0</td>\n",
       "      <td>0</td>\n",
       "      <td>0</td>\n",
       "      <td>0</td>\n",
       "      <td>0</td>\n",
       "      <td>0</td>\n",
       "      <td>0</td>\n",
       "      <td>1</td>\n",
       "      <td>0</td>\n",
       "    </tr>\n",
       "    <tr>\n",
       "      <th>53704</th>\n",
       "      <td>0</td>\n",
       "      <td>0</td>\n",
       "      <td>0</td>\n",
       "      <td>0</td>\n",
       "      <td>0</td>\n",
       "      <td>0</td>\n",
       "      <td>0</td>\n",
       "      <td>0</td>\n",
       "      <td>0</td>\n",
       "      <td>0</td>\n",
       "      <td>...</td>\n",
       "      <td>1</td>\n",
       "      <td>0</td>\n",
       "      <td>0</td>\n",
       "      <td>1</td>\n",
       "      <td>0</td>\n",
       "      <td>0</td>\n",
       "      <td>0</td>\n",
       "      <td>0</td>\n",
       "      <td>0</td>\n",
       "      <td>0</td>\n",
       "    </tr>\n",
       "    <tr>\n",
       "      <th>53705</th>\n",
       "      <td>0</td>\n",
       "      <td>0</td>\n",
       "      <td>0</td>\n",
       "      <td>0</td>\n",
       "      <td>0</td>\n",
       "      <td>0</td>\n",
       "      <td>0</td>\n",
       "      <td>0</td>\n",
       "      <td>0</td>\n",
       "      <td>0</td>\n",
       "      <td>...</td>\n",
       "      <td>0</td>\n",
       "      <td>1</td>\n",
       "      <td>0</td>\n",
       "      <td>0</td>\n",
       "      <td>0</td>\n",
       "      <td>0</td>\n",
       "      <td>0</td>\n",
       "      <td>0</td>\n",
       "      <td>0</td>\n",
       "      <td>0</td>\n",
       "    </tr>\n",
       "    <tr>\n",
       "      <th>53706</th>\n",
       "      <td>0</td>\n",
       "      <td>0</td>\n",
       "      <td>0</td>\n",
       "      <td>0</td>\n",
       "      <td>0</td>\n",
       "      <td>0</td>\n",
       "      <td>0</td>\n",
       "      <td>0</td>\n",
       "      <td>0</td>\n",
       "      <td>0</td>\n",
       "      <td>...</td>\n",
       "      <td>0</td>\n",
       "      <td>0</td>\n",
       "      <td>0</td>\n",
       "      <td>1</td>\n",
       "      <td>0</td>\n",
       "      <td>0</td>\n",
       "      <td>0</td>\n",
       "      <td>0</td>\n",
       "      <td>0</td>\n",
       "      <td>0</td>\n",
       "    </tr>\n",
       "  </tbody>\n",
       "</table>\n",
       "<p>53707 rows × 90 columns</p>\n",
       "</div>"
      ],
      "text/plain": [
       "       solo_hora_0  solo_hora_1  solo_hora_10  solo_hora_11  solo_hora_12  \\\n",
       "0                1            0             0             0             0   \n",
       "1                1            0             0             0             0   \n",
       "2                1            0             0             0             0   \n",
       "3                1            0             0             0             0   \n",
       "4                1            0             0             0             0   \n",
       "...            ...          ...           ...           ...           ...   \n",
       "53702            0            0             0             0             0   \n",
       "53703            0            0             0             0             0   \n",
       "53704            0            0             0             0             0   \n",
       "53705            0            0             0             0             0   \n",
       "53706            0            0             0             0             0   \n",
       "\n",
       "       solo_hora_13  solo_hora_14  solo_hora_15  solo_hora_16  solo_hora_17  \\\n",
       "0                 0             0             0             0             0   \n",
       "1                 0             0             0             0             0   \n",
       "2                 0             0             0             0             0   \n",
       "3                 0             0             0             0             0   \n",
       "4                 0             0             0             0             0   \n",
       "...             ...           ...           ...           ...           ...   \n",
       "53702             0             0             0             0             0   \n",
       "53703             0             0             0             0             0   \n",
       "53704             0             0             0             0             0   \n",
       "53705             0             0             0             0             0   \n",
       "53706             0             0             0             0             0   \n",
       "\n",
       "       ...  FERIADO_1.0  Condition_Cloudy  Condition_Drizzle  Condition_Fair  \\\n",
       "0      ...            0                 1                  0               0   \n",
       "1      ...            0                 0                  1               0   \n",
       "2      ...            0                 0                  0               1   \n",
       "3      ...            0                 0                  0               0   \n",
       "4      ...            0                 0                  0               0   \n",
       "...    ...          ...               ...                ...             ...   \n",
       "53702  ...            0                 0                  0               0   \n",
       "53703  ...            0                 0                  0               0   \n",
       "53704  ...            1                 0                  0               1   \n",
       "53705  ...            0                 1                  0               0   \n",
       "53706  ...            0                 0                  0               1   \n",
       "\n",
       "       Condition_Fog  Condition_Rain  Condition_Storm  Condition_Volcanic Ash  \\\n",
       "0                  0               0                0                       0   \n",
       "1                  0               0                0                       0   \n",
       "2                  0               0                0                       0   \n",
       "3                  1               0                0                       0   \n",
       "4                  0               1                0                       0   \n",
       "...              ...             ...              ...                     ...   \n",
       "53702              0               1                0                       0   \n",
       "53703              0               0                0                       0   \n",
       "53704              0               0                0                       0   \n",
       "53705              0               0                0                       0   \n",
       "53706              0               0                0                       0   \n",
       "\n",
       "       Condition_Windy  cantidad_accidentes  \n",
       "0                    0                    0  \n",
       "1                    0                    0  \n",
       "2                    0                    0  \n",
       "3                    0                    0  \n",
       "4                    0                    0  \n",
       "...                ...                  ...  \n",
       "53702                0                    0  \n",
       "53703                1                    0  \n",
       "53704                0                    0  \n",
       "53705                0                    0  \n",
       "53706                0                    0  \n",
       "\n",
       "[53707 rows x 90 columns]"
      ]
     },
     "execution_count": 68,
     "metadata": {},
     "output_type": "execute_result"
    }
   ],
   "source": [
    "grouped_dummie_df"
   ]
  },
  {
   "cell_type": "code",
   "execution_count": 69,
   "metadata": {},
   "outputs": [],
   "source": [
    "data_model_df = grouped_dummie_df.copy()"
   ]
  },
  {
   "cell_type": "markdown",
   "metadata": {},
   "source": [
    " "
   ]
  },
  {
   "cell_type": "code",
   "execution_count": null,
   "metadata": {},
   "outputs": [],
   "source": []
  },
  {
   "cell_type": "markdown",
   "metadata": {},
   "source": [
    "`Guardamos el dataset que utilizaremos para modelar en un .csv`"
   ]
  },
  {
   "cell_type": "code",
   "execution_count": 71,
   "metadata": {},
   "outputs": [],
   "source": [
    "#data_model_df = pd.read_csv('dataset_for_model.csv')"
   ]
  },
  {
   "cell_type": "code",
   "execution_count": 72,
   "metadata": {},
   "outputs": [],
   "source": [
    "data_model_df.to_csv('dataset_for_model_VFinal.csv', index=False)"
   ]
  },
  {
   "cell_type": "code",
   "execution_count": null,
   "metadata": {},
   "outputs": [],
   "source": [
    "#full_df[full_df.comuna.isnull()]"
   ]
  },
  {
   "cell_type": "markdown",
   "metadata": {},
   "source": [
    " "
   ]
  },
  {
   "cell_type": "markdown",
   "metadata": {},
   "source": [
    " "
   ]
  },
  {
   "cell_type": "markdown",
   "metadata": {},
   "source": [
    " "
   ]
  },
  {
   "cell_type": "markdown",
   "metadata": {},
   "source": [
    " "
   ]
  },
  {
   "cell_type": "markdown",
   "metadata": {
    "tags": []
   },
   "source": [
    "<hr>\n",
    "<div id='eda'>\n",
    "    <h2> EDA </h2>\n",
    "</div>\n",
    "<hr>"
   ]
  },
  {
   "cell_type": "code",
   "execution_count": 73,
   "metadata": {},
   "outputs": [],
   "source": [
    "data_eda = final_df.copy()#pd.read_csv('final_df.csv').drop('Unnamed: 0', axis=1)"
   ]
  },
  {
   "cell_type": "code",
   "execution_count": 78,
   "metadata": {},
   "outputs": [
    {
     "data": {
      "text/html": [
       "<div>\n",
       "<style scoped>\n",
       "    .dataframe tbody tr th:only-of-type {\n",
       "        vertical-align: middle;\n",
       "    }\n",
       "\n",
       "    .dataframe tbody tr th {\n",
       "        vertical-align: top;\n",
       "    }\n",
       "\n",
       "    .dataframe thead th {\n",
       "        text-align: right;\n",
       "    }\n",
       "</style>\n",
       "<table border=\"1\" class=\"dataframe\">\n",
       "  <thead>\n",
       "    <tr style=\"text-align: right;\">\n",
       "      <th></th>\n",
       "      <th>causa</th>\n",
       "      <th>rol</th>\n",
       "      <th>tipo</th>\n",
       "      <th>sexo</th>\n",
       "      <th>edad</th>\n",
       "      <th>mes</th>\n",
       "      <th>periodo</th>\n",
       "      <th>fecha</th>\n",
       "      <th>hora</th>\n",
       "      <th>lugar_hecho</th>\n",
       "      <th>...</th>\n",
       "      <th>dia_semana</th>\n",
       "      <th>fin_de_semana_dummie</th>\n",
       "      <th>Date</th>\n",
       "      <th>Hour</th>\n",
       "      <th>AM/PM</th>\n",
       "      <th>Wind_Speed</th>\n",
       "      <th>Condition</th>\n",
       "      <th>Only_Hour</th>\n",
       "      <th>Full_Hour</th>\n",
       "      <th>FERIADO</th>\n",
       "    </tr>\n",
       "  </thead>\n",
       "  <tbody>\n",
       "    <tr>\n",
       "      <th>0</th>\n",
       "      <td>homicidio</td>\n",
       "      <td>conductor</td>\n",
       "      <td>moto</td>\n",
       "      <td>NaN</td>\n",
       "      <td>NaN</td>\n",
       "      <td>2.0</td>\n",
       "      <td>2015.0</td>\n",
       "      <td>2/14/2015</td>\n",
       "      <td>19:00:00</td>\n",
       "      <td>cafayate y severo garcia grande de zequeira</td>\n",
       "      <td>...</td>\n",
       "      <td>Saturday</td>\n",
       "      <td>1</td>\n",
       "      <td>2015-02-14</td>\n",
       "      <td>7:00</td>\n",
       "      <td>PM</td>\n",
       "      <td>33.0</td>\n",
       "      <td>Windy</td>\n",
       "      <td>7.0</td>\n",
       "      <td>19.0</td>\n",
       "      <td>0.0</td>\n",
       "    </tr>\n",
       "    <tr>\n",
       "      <th>1</th>\n",
       "      <td>homicidio</td>\n",
       "      <td>NaN</td>\n",
       "      <td>NaN</td>\n",
       "      <td>NaN</td>\n",
       "      <td>NaN</td>\n",
       "      <td>2.0</td>\n",
       "      <td>2015.0</td>\n",
       "      <td>2/25/2015</td>\n",
       "      <td>3:00:00</td>\n",
       "      <td>lugones, leopoldo av. y udaondo, guillermo av.</td>\n",
       "      <td>...</td>\n",
       "      <td>Wednesday</td>\n",
       "      <td>0</td>\n",
       "      <td>2015-02-25</td>\n",
       "      <td>3:00</td>\n",
       "      <td>AM</td>\n",
       "      <td>24.0</td>\n",
       "      <td>Fair</td>\n",
       "      <td>3.0</td>\n",
       "      <td>3.0</td>\n",
       "      <td>0.0</td>\n",
       "    </tr>\n",
       "    <tr>\n",
       "      <th>2</th>\n",
       "      <td>homicidio</td>\n",
       "      <td>peaton</td>\n",
       "      <td>peaton</td>\n",
       "      <td>femenino</td>\n",
       "      <td>NaN</td>\n",
       "      <td>2.0</td>\n",
       "      <td>2015.0</td>\n",
       "      <td>2/27/2015</td>\n",
       "      <td>8:00:00</td>\n",
       "      <td>avda jujuy y avda independencia</td>\n",
       "      <td>...</td>\n",
       "      <td>Friday</td>\n",
       "      <td>0</td>\n",
       "      <td>2015-02-27</td>\n",
       "      <td>8:00</td>\n",
       "      <td>AM</td>\n",
       "      <td>20.0</td>\n",
       "      <td>Cloudy</td>\n",
       "      <td>8.0</td>\n",
       "      <td>8.0</td>\n",
       "      <td>0.0</td>\n",
       "    </tr>\n",
       "  </tbody>\n",
       "</table>\n",
       "<p>3 rows × 47 columns</p>\n",
       "</div>"
      ],
      "text/plain": [
       "       causa        rol    tipo      sexo  edad  mes  periodo      fecha  \\\n",
       "0  homicidio  conductor    moto       NaN   NaN  2.0   2015.0  2/14/2015   \n",
       "1  homicidio        NaN     NaN       NaN   NaN  2.0   2015.0  2/25/2015   \n",
       "2  homicidio     peaton  peaton  femenino   NaN  2.0   2015.0  2/27/2015   \n",
       "\n",
       "       hora                                     lugar_hecho  ... dia_semana  \\\n",
       "0  19:00:00     cafayate y severo garcia grande de zequeira  ...   Saturday   \n",
       "1   3:00:00  lugones, leopoldo av. y udaondo, guillermo av.  ...  Wednesday   \n",
       "2   8:00:00                 avda jujuy y avda independencia  ...     Friday   \n",
       "\n",
       "  fin_de_semana_dummie       Date  Hour  AM/PM Wind_Speed  Condition  \\\n",
       "0                    1 2015-02-14  7:00     PM       33.0      Windy   \n",
       "1                    0 2015-02-25  3:00     AM       24.0       Fair   \n",
       "2                    0 2015-02-27  8:00     AM       20.0     Cloudy   \n",
       "\n",
       "   Only_Hour Full_Hour  FERIADO  \n",
       "0        7.0      19.0      0.0  \n",
       "1        3.0       3.0      0.0  \n",
       "2        8.0       8.0      0.0  \n",
       "\n",
       "[3 rows x 47 columns]"
      ]
     },
     "execution_count": 78,
     "metadata": {},
     "output_type": "execute_result"
    }
   ],
   "source": [
    "data_eda.head(3)"
   ]
  },
  {
   "cell_type": "code",
   "execution_count": 79,
   "metadata": {
    "tags": []
   },
   "outputs": [],
   "source": [
    "#Chequeo de Valores Nulos\n",
    "#Función para calcular el porcentaje de valores nulos de un dataframe\n",
    "def get_percentages_null_values(df):\n",
    "    '''\n",
    "    Obtiene los porcentajes de valores nulos de todas las columnas de un `df`.\n",
    "\n",
    "    Parameters\n",
    "    ----------\n",
    "    df : dataframe del cual se desea conocer los porcentajes de nulos por columna\n",
    "    '''\n",
    "    \n",
    "    null_values_info = df.apply(lambda x: x.isnull().sum()/df.shape[0]*100).sort_values(ascending=False)\n",
    "    display(null_values_info)"
   ]
  },
  {
   "cell_type": "code",
   "execution_count": 80,
   "metadata": {
    "tags": []
   },
   "outputs": [],
   "source": [
    "solo_accidentes = data_eda[data_eda['causa'].notnull()]"
   ]
  },
  {
   "cell_type": "code",
   "execution_count": 81,
   "metadata": {
    "tags": []
   },
   "outputs": [
    {
     "data": {
      "text/plain": [
       "altura                          78.301942\n",
       "codigo_cruce                    56.703632\n",
       "codigo_calle                    51.305521\n",
       "calle2                          25.019069\n",
       "lugar_hecho                     21.387080\n",
       "tipo_colision1                   3.561580\n",
       "tipo                             3.209529\n",
       "comuna                           3.191926\n",
       "Barrio                           3.186059\n",
       "x                                3.186059\n",
       "y                                3.186059\n",
       "geom                             3.186059\n",
       "geom_3857                        3.186059\n",
       "geocodificacion                  3.186059\n",
       "participantes_victimas           2.775333\n",
       "direccion_normalizada_arcgis     2.405680\n",
       "calle1                           2.382210\n",
       "direccion_normalizada            2.382210\n",
       "edad                             2.188582\n",
       "rol                              1.496215\n",
       "participantes_acusados           1.402335\n",
       "sexo                             0.891862\n",
       "tipo_calle                       0.000000\n",
       "hora                             0.000000\n",
       "fecha                            0.000000\n",
       "periodo                          0.000000\n",
       "mes                              0.000000\n",
       "FERIADO                          0.000000\n",
       "cantidad_victimas                0.000000\n",
       "semestre                         0.000000\n",
       "Full_Hour                        0.000000\n",
       "Only_Hour                        0.000000\n",
       "Condition                        0.000000\n",
       "Wind_Speed                       0.000000\n",
       "AM/PM                            0.000000\n",
       "Hour                             0.000000\n",
       "Date                             0.000000\n",
       "fin_de_semana_dummie             0.000000\n",
       "dia_semana                       0.000000\n",
       "estacion                         0.000000\n",
       "dia/mes                          0.000000\n",
       "fecha_std_datetime               0.000000\n",
       "solo_hora                        0.000000\n",
       "fecha_std                        0.000000\n",
       "dia                              0.000000\n",
       "geometry                         0.000000\n",
       "causa                            0.000000\n",
       "dtype: float64"
      ]
     },
     "metadata": {},
     "output_type": "display_data"
    }
   ],
   "source": [
    "get_percentages_null_values(solo_accidentes)"
   ]
  },
  {
   "cell_type": "code",
   "execution_count": 82,
   "metadata": {
    "tags": []
   },
   "outputs": [],
   "source": [
    "data_eda_null_info = pd.DataFrame(solo_accidentes.count(), columns=['Non-Null Count'])\n",
    "\n",
    "data_eda_null_info['Dtype'] = solo_accidentes.dtypes"
   ]
  },
  {
   "cell_type": "code",
   "execution_count": 83,
   "metadata": {
    "tags": []
   },
   "outputs": [
    {
     "data": {
      "text/plain": [
       "17043"
      ]
     },
     "execution_count": 83,
     "metadata": {},
     "output_type": "execute_result"
    }
   ],
   "source": [
    "cantidad_registros_totales = len(solo_accidentes['estacion'])\n",
    "cantidad_registros_totales"
   ]
  },
  {
   "cell_type": "code",
   "execution_count": 84,
   "metadata": {
    "tags": []
   },
   "outputs": [
    {
     "data": {
      "text/html": [
       "<div>\n",
       "<style scoped>\n",
       "    .dataframe tbody tr th:only-of-type {\n",
       "        vertical-align: middle;\n",
       "    }\n",
       "\n",
       "    .dataframe tbody tr th {\n",
       "        vertical-align: top;\n",
       "    }\n",
       "\n",
       "    .dataframe thead th {\n",
       "        text-align: right;\n",
       "    }\n",
       "</style>\n",
       "<table border=\"1\" class=\"dataframe\">\n",
       "  <thead>\n",
       "    <tr style=\"text-align: right;\">\n",
       "      <th></th>\n",
       "      <th>Non-Null Count</th>\n",
       "      <th>Dtype</th>\n",
       "      <th>Percentage Full</th>\n",
       "    </tr>\n",
       "  </thead>\n",
       "  <tbody>\n",
       "    <tr>\n",
       "      <th>altura</th>\n",
       "      <td>3698</td>\n",
       "      <td>float64</td>\n",
       "      <td>78.301942</td>\n",
       "    </tr>\n",
       "    <tr>\n",
       "      <th>codigo_cruce</th>\n",
       "      <td>7379</td>\n",
       "      <td>float64</td>\n",
       "      <td>56.703632</td>\n",
       "    </tr>\n",
       "    <tr>\n",
       "      <th>codigo_calle</th>\n",
       "      <td>8299</td>\n",
       "      <td>float64</td>\n",
       "      <td>51.305521</td>\n",
       "    </tr>\n",
       "    <tr>\n",
       "      <th>calle2</th>\n",
       "      <td>12779</td>\n",
       "      <td>object</td>\n",
       "      <td>25.019069</td>\n",
       "    </tr>\n",
       "    <tr>\n",
       "      <th>lugar_hecho</th>\n",
       "      <td>13398</td>\n",
       "      <td>object</td>\n",
       "      <td>21.387080</td>\n",
       "    </tr>\n",
       "  </tbody>\n",
       "</table>\n",
       "</div>"
      ],
      "text/plain": [
       "              Non-Null Count    Dtype  Percentage Full\n",
       "altura                  3698  float64        78.301942\n",
       "codigo_cruce            7379  float64        56.703632\n",
       "codigo_calle            8299  float64        51.305521\n",
       "calle2                 12779   object        25.019069\n",
       "lugar_hecho            13398   object        21.387080"
      ]
     },
     "execution_count": 84,
     "metadata": {},
     "output_type": "execute_result"
    }
   ],
   "source": [
    "data_eda_null_info['Percentage Full'] = 100-(data_eda_null_info['Non-Null Count']/cantidad_registros_totales*100)\n",
    "\n",
    "data_eda_null_info.sort_values(by='Percentage Full', ascending=False, inplace=True)\n",
    "\n",
    "data_eda_null_info.head()"
   ]
  },
  {
   "cell_type": "code",
   "execution_count": 85,
   "metadata": {
    "tags": []
   },
   "outputs": [],
   "source": [
    "empties_in_final_df_agrupado = data_eda_null_info[data_eda_null_info['Percentage Full'] >= 0.0]"
   ]
  },
  {
   "cell_type": "code",
   "execution_count": 86,
   "metadata": {
    "tags": []
   },
   "outputs": [],
   "source": [
    "clrs=[]\n",
    "for x in empties_in_final_df_agrupado['Percentage Full']:\n",
    "    if x > 60:\n",
    "        clrs.append('#C70039')\n",
    "    elif x > 20:\n",
    "        clrs.append('#FF5733')\n",
    "    elif x > 10:\n",
    "        clrs.append('#FFC300')\n",
    "    else:\n",
    "        clrs.append('#DAF7A6')"
   ]
  },
  {
   "cell_type": "code",
   "execution_count": 87,
   "metadata": {
    "tags": []
   },
   "outputs": [
    {
     "data": {
      "text/plain": [
       "Text(0.7, 0.95, 'Figura 1.\\n Distribución de variables nulas en el dataset')"
      ]
     },
     "execution_count": 87,
     "metadata": {},
     "output_type": "execute_result"
    },
    {
     "data": {
      "image/png": "[encoded data removed]",
      "text/plain": [
       "<Figure size 1440x576 with 1 Axes>"
      ]
     },
     "metadata": {
      "needs_background": "light"
     },
     "output_type": "display_data"
    }
   ],
   "source": [
    "fig, ax = plt.subplots(figsize=(20,8))\n",
    "#plt.rcParams.update({'font.size': 14})\n",
    "plt.xticks(rotation=45)\n",
    "plt.tight_layout()\n",
    "ax.set_title('Distribución de registros nulos por columnas', fontweight='bold', fontsize=18)\n",
    "ax.set_xlabel('Columnas del dataset Siniestros', fontweight='bold', fontsize=14)\n",
    "ax.set_ylabel('Cantidad de registros', fontweight='bold', fontsize=14)\n",
    "#ax.set_yticklabels(['{:,.0%}'.format(x) for x in ax.get_yticks()])\n",
    "ax.bar(empties_in_final_df_agrupado.index, empties_in_final_df_agrupado['Percentage Full'], data=empties_in_final_df_agrupado, color=clrs)\n",
    "ax.spines['top'].set_visible(False)\n",
    "ax.spines['right'].set_visible(False)\n",
    "ax.text(0.7, 0.95, 'Figura 1.\\n Distribución de variables nulas en el dataset', transform=ax.transAxes, fontsize=14,\n",
    "        verticalalignment='top', bbox= dict(boxstyle='round', facecolor='wheat', alpha=0.5))\n",
    "#ax.set_xticklabels(info_properatti_df.index, rotation=45)\n",
    "#plt.savefig('datos_nulos')\n"
   ]
  },
  {
   "cell_type": "markdown",
   "metadata": {},
   "source": [
    " "
   ]
  },
  {
   "cell_type": "markdown",
   "metadata": {},
   "source": [
    " "
   ]
  },
  {
   "cell_type": "code",
   "execution_count": 90,
   "metadata": {},
   "outputs": [],
   "source": [
    "siniestros_df['solo_hora'] = siniestros_df['solo_hora'].astype(int)"
   ]
  },
  {
   "cell_type": "code",
   "execution_count": 91,
   "metadata": {},
   "outputs": [],
   "source": [
    "def plot_variable_years(years_list, dataframe, column_groupby, column_count, title, x_axis_title, y_axis_title, kind='Normal', shareX_option=False, shareY_opcion=True):\n",
    "    '''\n",
    "    Grafica una cantidad de visualizaciones según la cantidad de años y las variables utilizadas.\n",
    "    \n",
    "    Parameters\n",
    "    ----------\n",
    "    years_list : debe ser una lista con los años a través de los cuales se desea graficar. Dependiendo de la longitud de `years_list` va a cambiar la cantidad de gráficos logrados.\n",
    "    \n",
    "    dataframe : datos a partir del cual se van a agrupar y contar los datos.\n",
    "    \n",
    "    column_groupby : columna por la cual se desea agrupar.\n",
    "    \n",
    "    column_count : columna que sea desea contar.\n",
    "    \n",
    "    title : titulo del gráfico. Si no se pasa como dato, la visualización no tendrá título.\n",
    "    \n",
    "    x_axis_title : título del eje X. Si no se pasa como dato, cada gráfico no tendrá su correspondiente título para el eje x.\n",
    "    \n",
    "    y_axis_title : título del eje Y. Si no se pasa como dato, cada gráfico no tendrá su correspondiente título para el eje y.\n",
    "    \n",
    "    kind : `plot_variable_years` permite graficar 2 tipos de visualizaciones: barras o geoespacial. Si se omite, se utilizará por defecto `Normal` y se graficarán barras; de lo contrario se graficarán -de ser posible-, los datos geoespaciales.\n",
    "    '''\n",
    "    \n",
    "    \n",
    "    fig, axes = plt.subplots(2, 2, figsize=(15,10), sharex=False, sharey=True)\n",
    "    fig.suptitle(title, fontsize='18')\n",
    "    i=0\n",
    "    j=0\n",
    "    for y in years_list:\n",
    "        acc_year = dataframe[dataframe.periodo==y]\n",
    "        if kind != 'Geo':\n",
    "            df = pd.DataFrame(acc_year.groupby(column_groupby)[column_count].count()).reset_index()\n",
    "        else:\n",
    "            acc_barrios = acc_year.groupby('Barrio').causa.count().sort_values(ascending=False)\n",
    "            acc_barrios = barrios.merge(acc_barrios, how='left', left_on='barrio', right_on=acc_barrios.index)\n",
    "        #print(y)\n",
    "        #display(df.head(2))\n",
    "        if y == years_list[0]:\n",
    "            i=0\n",
    "            j=0\n",
    "        elif y == years_list[1]:\n",
    "            i=0\n",
    "            j=1\n",
    "        elif y == years_list[2]:\n",
    "            i=1\n",
    "            j=0\n",
    "        else:\n",
    "            i=1\n",
    "            j=1\n",
    "        #print(i, j)\n",
    "        if kind != 'Geo':\n",
    "            sns.barplot(x=column_groupby, y=column_count,data=df, ax=axes[i, j])\n",
    "        else:\n",
    "            acc_barrios.plot('causa', figsize=(10,10), legend=True, ax=axes[i,j], vmin=0, vmax=800)\n",
    "\n",
    "    \n",
    "        \n",
    "        axes[i, j].set_title(y)\n",
    "        axes[i, j].set_xlabel(x_axis_title)\n",
    "        axes[i, j].set_ylabel(y_axis_title)\n",
    "        axes[1,1].text(0.3, 0.9, '*Información del año incompleta', horizontalalignment='center', verticalalignment='center', transform=axes[1,1].transAxes)\n",
    "    \n",
    "    \n",
    "    plt.show()\n"
   ]
  },
  {
   "cell_type": "markdown",
   "metadata": {},
   "source": [
    " "
   ]
  },
  {
   "cell_type": "markdown",
   "metadata": {},
   "source": [
    "> Vemos en el siguiente gráfico que muestra la `Distribución de accidentes por DÍA para cada año`, que los días no son una variable que aporten valor a la cantidad de accidentes. Por ende, es probable que esta variable sea removida para modelar."
   ]
  },
  {
   "cell_type": "code",
   "execution_count": 92,
   "metadata": {},
   "outputs": [
    {
     "data": {
      "image/png": "[encoded data removed]",
      "text/plain": [
       "<Figure size 1080x720 with 4 Axes>"
      ]
     },
     "metadata": {
      "needs_background": "light"
     },
     "output_type": "display_data"
    }
   ],
   "source": [
    "plot_variable_years(list(siniestros_df.periodo.unique()), siniestros_df, 'dia', 'causa', 'Disttribución de accidentes por dia',\\\n",
    "                    'Dia', 'Cantidad de accidentes', kind='Normal')"
   ]
  },
  {
   "cell_type": "markdown",
   "metadata": {},
   "source": [
    " "
   ]
  },
  {
   "cell_type": "markdown",
   "metadata": {},
   "source": [
    "> A diferencia de la anterior visualización, en el siguiente gráfico que muestra la `Distribución de accidentes por HORA para cada año`, esta variable sí influye en la cantidad de accidentes. \n",
    "\n",
    "> Hay una clara tendencia a lo largo de los años que la cantidad de accidentes sub cerca del mediodía, teniendo picos por las tardes."
   ]
  },
  {
   "cell_type": "code",
   "execution_count": 93,
   "metadata": {},
   "outputs": [
    {
     "data": {
      "image/png": "[encoded data removed]",
      "text/plain": [
       "<Figure size 1080x720 with 4 Axes>"
      ]
     },
     "metadata": {
      "needs_background": "light"
     },
     "output_type": "display_data"
    }
   ],
   "source": [
    "plot_variable_years(list(siniestros_df.periodo.unique()), siniestros_df, 'solo_hora', 'causa', 'Disttribución de accidentes por hora',\\\n",
    "                    'Hora', 'Cantidad de accidentes', kind='Normal')"
   ]
  },
  {
   "cell_type": "markdown",
   "metadata": {},
   "source": [
    " "
   ]
  },
  {
   "cell_type": "markdown",
   "metadata": {},
   "source": [
    "> Vemos en el siguiente gráfico que muestra la `Distribución de accidentes por MES para cada año`, al igual que los \"días\" no es una variable que incluye en la cantidad de accidentes. Por ende, es probable que los mismos sean removidos para modelar."
   ]
  },
  {
   "cell_type": "code",
   "execution_count": 94,
   "metadata": {},
   "outputs": [
    {
     "data": {
      "image/png": "[encoded data removed]",
      "text/plain": [
       "<Figure size 1080x720 with 4 Axes>"
      ]
     },
     "metadata": {
      "needs_background": "light"
     },
     "output_type": "display_data"
    }
   ],
   "source": [
    "plot_variable_years(list(siniestros_df.periodo.unique()), siniestros_df, 'mes', 'causa', 'Disttribución de accidentes por mes',\\\n",
    "                    'Mes', 'Cantidad de accidentes', kind='Normal')"
   ]
  },
  {
   "cell_type": "code",
   "execution_count": null,
   "metadata": {},
   "outputs": [],
   "source": []
  },
  {
   "cell_type": "code",
   "execution_count": 95,
   "metadata": {},
   "outputs": [
    {
     "data": {
      "text/plain": [
       "Text(0.5, 1.0, 'Cantidad de accidente por estación')"
      ]
     },
     "execution_count": 95,
     "metadata": {},
     "output_type": "execute_result"
    },
    {
     "data": {
      "image/png": "[encoded data removed]",
      "text/plain": [
       "<Figure size 432x288 with 1 Axes>"
      ]
     },
     "metadata": {
      "needs_background": "light"
     },
     "output_type": "display_data"
    }
   ],
   "source": [
    "grouped_final_df_agrupado = pd.DataFrame(grouped_df.groupby(['estacion']).sum()['cantidad_accidentes'])\n",
    "Estacion=grouped_final_df_agrupado.index.values.tolist()\n",
    "grouped_final_df_agrupado['Estacion']=Estacion\n",
    "fig, ax=plt.subplots()\n",
    "sns.barplot(x='Estacion',y='cantidad_accidentes',data=grouped_final_df_agrupado, ax=ax)\n",
    "ax.set_title('Cantidad de accidente por estación')"
   ]
  },
  {
   "cell_type": "code",
   "execution_count": null,
   "metadata": {},
   "outputs": [],
   "source": []
  },
  {
   "cell_type": "markdown",
   "metadata": {},
   "source": [
    "> En la siguiente visualización se puede ver cómo la localización influye en la cantidad de accidentes. Los barrios Palermo, Flores, Recoleta es donde ocurren a lo largo de los años mayor cantidad de accidentes."
   ]
  },
  {
   "cell_type": "code",
   "execution_count": 96,
   "metadata": {},
   "outputs": [
    {
     "data": {
      "image/png": "[encoded data removed]",
      "text/plain": [
       "<Figure size 1080x720 with 8 Axes>"
      ]
     },
     "metadata": {
      "needs_background": "light"
     },
     "output_type": "display_data"
    }
   ],
   "source": [
    "plot_variable_years(list(siniestros_df.periodo.unique()), siniestros_df, 'Barrio', 'causa', 'Disttribución de accidentes por Barrio',\\\n",
    "                    'Barrio', 'Cantidad de accidentes', kind='Geo')"
   ]
  },
  {
   "cell_type": "code",
   "execution_count": 97,
   "metadata": {},
   "outputs": [],
   "source": [
    "feriados['FECHA_std'] = feriados['FECHA'].apply(lambda f: pd.to_datetime(f))"
   ]
  },
  {
   "cell_type": "code",
   "execution_count": 98,
   "metadata": {},
   "outputs": [],
   "source": [
    "siniestros_df['fecha_std'] = siniestros_df['fecha_std'].apply(lambda f: pd.to_datetime(f))"
   ]
  },
  {
   "cell_type": "code",
   "execution_count": 99,
   "metadata": {
    "tags": []
   },
   "outputs": [
    {
     "data": {
      "text/html": [
       "<div>\n",
       "<style scoped>\n",
       "    .dataframe tbody tr th:only-of-type {\n",
       "        vertical-align: middle;\n",
       "    }\n",
       "\n",
       "    .dataframe tbody tr th {\n",
       "        vertical-align: top;\n",
       "    }\n",
       "\n",
       "    .dataframe thead th {\n",
       "        text-align: right;\n",
       "    }\n",
       "</style>\n",
       "<table border=\"1\" class=\"dataframe\">\n",
       "  <thead>\n",
       "    <tr style=\"text-align: right;\">\n",
       "      <th></th>\n",
       "      <th>FECHA</th>\n",
       "      <th>FERIADO</th>\n",
       "      <th>FECHA_std</th>\n",
       "    </tr>\n",
       "  </thead>\n",
       "  <tbody>\n",
       "    <tr>\n",
       "      <th>0</th>\n",
       "      <td>2015-01-01</td>\n",
       "      <td>1</td>\n",
       "      <td>2015-01-01</td>\n",
       "    </tr>\n",
       "    <tr>\n",
       "      <th>1</th>\n",
       "      <td>2016-01-01</td>\n",
       "      <td>1</td>\n",
       "      <td>2016-01-01</td>\n",
       "    </tr>\n",
       "    <tr>\n",
       "      <th>2</th>\n",
       "      <td>2017-01-01</td>\n",
       "      <td>1</td>\n",
       "      <td>2017-01-01</td>\n",
       "    </tr>\n",
       "    <tr>\n",
       "      <th>3</th>\n",
       "      <td>2018-01-01</td>\n",
       "      <td>1</td>\n",
       "      <td>2018-01-01</td>\n",
       "    </tr>\n",
       "    <tr>\n",
       "      <th>8</th>\n",
       "      <td>2015-04-02</td>\n",
       "      <td>1</td>\n",
       "      <td>2015-04-02</td>\n",
       "    </tr>\n",
       "  </tbody>\n",
       "</table>\n",
       "</div>"
      ],
      "text/plain": [
       "       FECHA  FERIADO  FECHA_std\n",
       "0 2015-01-01        1 2015-01-01\n",
       "1 2016-01-01        1 2016-01-01\n",
       "2 2017-01-01        1 2017-01-01\n",
       "3 2018-01-01        1 2018-01-01\n",
       "8 2015-04-02        1 2015-04-02"
      ]
     },
     "execution_count": 99,
     "metadata": {},
     "output_type": "execute_result"
    }
   ],
   "source": [
    "feriados.head()"
   ]
  },
  {
   "cell_type": "code",
   "execution_count": 100,
   "metadata": {
    "tags": []
   },
   "outputs": [
    {
     "data": {
      "text/html": [
       "<div>\n",
       "<style scoped>\n",
       "    .dataframe tbody tr th:only-of-type {\n",
       "        vertical-align: middle;\n",
       "    }\n",
       "\n",
       "    .dataframe tbody tr th {\n",
       "        vertical-align: top;\n",
       "    }\n",
       "\n",
       "    .dataframe thead th {\n",
       "        text-align: right;\n",
       "    }\n",
       "</style>\n",
       "<table border=\"1\" class=\"dataframe\">\n",
       "  <thead>\n",
       "    <tr style=\"text-align: right;\">\n",
       "      <th></th>\n",
       "      <th>causa</th>\n",
       "      <th>rol</th>\n",
       "      <th>tipo</th>\n",
       "      <th>sexo</th>\n",
       "      <th>edad</th>\n",
       "      <th>mes</th>\n",
       "      <th>periodo</th>\n",
       "      <th>fecha</th>\n",
       "      <th>hora</th>\n",
       "      <th>lugar_hecho</th>\n",
       "      <th>...</th>\n",
       "      <th>comuna</th>\n",
       "      <th>geom_3857</th>\n",
       "      <th>tipo_colision1</th>\n",
       "      <th>participantes_victimas</th>\n",
       "      <th>participantes_acusados</th>\n",
       "      <th>geometry</th>\n",
       "      <th>Barrio</th>\n",
       "      <th>dia</th>\n",
       "      <th>fecha_std</th>\n",
       "      <th>solo_hora</th>\n",
       "    </tr>\n",
       "  </thead>\n",
       "  <tbody>\n",
       "    <tr>\n",
       "      <th>0</th>\n",
       "      <td>homicidio</td>\n",
       "      <td>conductor</td>\n",
       "      <td>moto</td>\n",
       "      <td>NaN</td>\n",
       "      <td>NaN</td>\n",
       "      <td>2</td>\n",
       "      <td>2015</td>\n",
       "      <td>2/14/2015</td>\n",
       "      <td>19:00:00</td>\n",
       "      <td>cafayate y severo garcia grande de zequeira</td>\n",
       "      <td>...</td>\n",
       "      <td>9.0</td>\n",
       "      <td>0101000020110F0000DE9B958180D858C1EC802966CD68...</td>\n",
       "      <td>motovehiculo - vehiculo</td>\n",
       "      <td>moto</td>\n",
       "      <td>automovil</td>\n",
       "      <td>POINT (-58.50866 -34.65349)</td>\n",
       "      <td>MATADEROS</td>\n",
       "      <td>14</td>\n",
       "      <td>2015-02-14</td>\n",
       "      <td>19</td>\n",
       "    </tr>\n",
       "    <tr>\n",
       "      <th>1</th>\n",
       "      <td>homicidio</td>\n",
       "      <td>NaN</td>\n",
       "      <td>NaN</td>\n",
       "      <td>NaN</td>\n",
       "      <td>NaN</td>\n",
       "      <td>2</td>\n",
       "      <td>2015</td>\n",
       "      <td>2/25/2015</td>\n",
       "      <td>3:00:00</td>\n",
       "      <td>lugones, leopoldo av. y udaondo, guillermo av.</td>\n",
       "      <td>...</td>\n",
       "      <td>13.0</td>\n",
       "      <td>0101000020110F0000BFBC457BDFD158C1E1DDA818C14B...</td>\n",
       "      <td>NaN</td>\n",
       "      <td>NaN</td>\n",
       "      <td>NaN</td>\n",
       "      <td>POINT (-58.44768 -34.54351)</td>\n",
       "      <td>BELGRANO</td>\n",
       "      <td>25</td>\n",
       "      <td>2015-02-25</td>\n",
       "      <td>3</td>\n",
       "    </tr>\n",
       "    <tr>\n",
       "      <th>2</th>\n",
       "      <td>homicidio</td>\n",
       "      <td>peaton</td>\n",
       "      <td>peaton</td>\n",
       "      <td>femenino</td>\n",
       "      <td>NaN</td>\n",
       "      <td>2</td>\n",
       "      <td>2015</td>\n",
       "      <td>2/27/2015</td>\n",
       "      <td>8:00:00</td>\n",
       "      <td>avda jujuy y avda independencia</td>\n",
       "      <td>...</td>\n",
       "      <td>3.0</td>\n",
       "      <td>0101000020110F0000F8067D6812CD58C189755F66A55F...</td>\n",
       "      <td>peaton - vehiculo</td>\n",
       "      <td>peaton</td>\n",
       "      <td>\"transporte publico\"</td>\n",
       "      <td>POINT (-58.40352 -34.61884)</td>\n",
       "      <td>BALVANERA</td>\n",
       "      <td>27</td>\n",
       "      <td>2015-02-27</td>\n",
       "      <td>8</td>\n",
       "    </tr>\n",
       "    <tr>\n",
       "      <th>3</th>\n",
       "      <td>homicidio</td>\n",
       "      <td>NaN</td>\n",
       "      <td>NaN</td>\n",
       "      <td>NaN</td>\n",
       "      <td>NaN</td>\n",
       "      <td>3</td>\n",
       "      <td>2015</td>\n",
       "      <td>03/02/15</td>\n",
       "      <td>18:30:00</td>\n",
       "      <td>lavalle 1730</td>\n",
       "      <td>...</td>\n",
       "      <td>1.0</td>\n",
       "      <td>0101000020110F00005621683DBFCB58C10B59E69B815B...</td>\n",
       "      <td>NaN</td>\n",
       "      <td>NaN</td>\n",
       "      <td>NaN</td>\n",
       "      <td>POINT (-58.39133 -34.60317)</td>\n",
       "      <td>SAN NICOLAS</td>\n",
       "      <td>02</td>\n",
       "      <td>2015-03-02</td>\n",
       "      <td>18</td>\n",
       "    </tr>\n",
       "    <tr>\n",
       "      <th>4</th>\n",
       "      <td>homicidio</td>\n",
       "      <td>pasajero</td>\n",
       "      <td>camion</td>\n",
       "      <td>masculino</td>\n",
       "      <td>NaN</td>\n",
       "      <td>4</td>\n",
       "      <td>2015</td>\n",
       "      <td>04/09/15</td>\n",
       "      <td>1:20:00</td>\n",
       "      <td>ave salvador m del carril 2434</td>\n",
       "      <td>...</td>\n",
       "      <td>15.0</td>\n",
       "      <td>0101000020110F00006F2F76D4C9D658C1750825735D57...</td>\n",
       "      <td>vehiculo - vehiculo</td>\n",
       "      <td>camion</td>\n",
       "      <td>camion</td>\n",
       "      <td>POINT (-58.49290 -34.58749)</td>\n",
       "      <td>AGRONOMIA</td>\n",
       "      <td>09</td>\n",
       "      <td>2015-04-09</td>\n",
       "      <td>1</td>\n",
       "    </tr>\n",
       "  </tbody>\n",
       "</table>\n",
       "<p>5 rows × 34 columns</p>\n",
       "</div>"
      ],
      "text/plain": [
       "       causa        rol    tipo       sexo  edad  mes  periodo      fecha  \\\n",
       "0  homicidio  conductor    moto        NaN   NaN    2     2015  2/14/2015   \n",
       "1  homicidio        NaN     NaN        NaN   NaN    2     2015  2/25/2015   \n",
       "2  homicidio     peaton  peaton   femenino   NaN    2     2015  2/27/2015   \n",
       "3  homicidio        NaN     NaN        NaN   NaN    3     2015   03/02/15   \n",
       "4  homicidio   pasajero  camion  masculino   NaN    4     2015   04/09/15   \n",
       "\n",
       "       hora                                     lugar_hecho  ... comuna  \\\n",
       "0  19:00:00     cafayate y severo garcia grande de zequeira  ...    9.0   \n",
       "1   3:00:00  lugones, leopoldo av. y udaondo, guillermo av.  ...   13.0   \n",
       "2   8:00:00                 avda jujuy y avda independencia  ...    3.0   \n",
       "3  18:30:00                                    lavalle 1730  ...    1.0   \n",
       "4   1:20:00                  ave salvador m del carril 2434  ...   15.0   \n",
       "\n",
       "                                           geom_3857           tipo_colision1  \\\n",
       "0  0101000020110F0000DE9B958180D858C1EC802966CD68...  motovehiculo - vehiculo   \n",
       "1  0101000020110F0000BFBC457BDFD158C1E1DDA818C14B...                      NaN   \n",
       "2  0101000020110F0000F8067D6812CD58C189755F66A55F...        peaton - vehiculo   \n",
       "3  0101000020110F00005621683DBFCB58C10B59E69B815B...                      NaN   \n",
       "4  0101000020110F00006F2F76D4C9D658C1750825735D57...      vehiculo - vehiculo   \n",
       "\n",
       "  participantes_victimas  participantes_acusados                     geometry  \\\n",
       "0                   moto               automovil  POINT (-58.50866 -34.65349)   \n",
       "1                    NaN                     NaN  POINT (-58.44768 -34.54351)   \n",
       "2                 peaton    \"transporte publico\"  POINT (-58.40352 -34.61884)   \n",
       "3                    NaN                     NaN  POINT (-58.39133 -34.60317)   \n",
       "4                 camion                  camion  POINT (-58.49290 -34.58749)   \n",
       "\n",
       "        Barrio  dia  fecha_std  solo_hora  \n",
       "0    MATADEROS   14 2015-02-14         19  \n",
       "1     BELGRANO   25 2015-02-25          3  \n",
       "2    BALVANERA   27 2015-02-27          8  \n",
       "3  SAN NICOLAS   02 2015-03-02         18  \n",
       "4    AGRONOMIA   09 2015-04-09          1  \n",
       "\n",
       "[5 rows x 34 columns]"
      ]
     },
     "execution_count": 100,
     "metadata": {},
     "output_type": "execute_result"
    }
   ],
   "source": [
    "siniestros_df.head()"
   ]
  },
  {
   "cell_type": "code",
   "execution_count": 101,
   "metadata": {},
   "outputs": [],
   "source": [
    "siniestros_feriados=pd.merge(siniestros_df,feriados,how='left', left_on=\"fecha_std\", right_on=\"FECHA_std\")"
   ]
  },
  {
   "cell_type": "code",
   "execution_count": 102,
   "metadata": {},
   "outputs": [],
   "source": [
    "siniestros_feriados['feriado_dummie'] = siniestros_feriados.FERIADO.apply(lambda f: 0 if pd.isna(f) else 1)"
   ]
  },
  {
   "cell_type": "code",
   "execution_count": 103,
   "metadata": {},
   "outputs": [],
   "source": [
    "cantidad_no_feriados = len(siniestros_feriados[siniestros_feriados['feriado_dummie']==0].fecha_std.unique())\n",
    "cantidad_feriados = len(siniestros_feriados[siniestros_feriados['feriado_dummie']==1].fecha_std.unique())"
   ]
  },
  {
   "cell_type": "code",
   "execution_count": 104,
   "metadata": {},
   "outputs": [
    {
     "name": "stdout",
     "output_type": "stream",
     "text": [
      "Cantidad No Feriados --> 1223\n",
      "Cantidad Feriados --> 24\n"
     ]
    }
   ],
   "source": [
    "print('Cantidad No Feriados -->', cantidad_no_feriados)\n",
    "print('Cantidad Feriados -->', cantidad_feriados)"
   ]
  },
  {
   "cell_type": "code",
   "execution_count": 105,
   "metadata": {},
   "outputs": [
    {
     "data": {
      "text/plain": [
       "0    32744\n",
       "1      418\n",
       "Name: feriado_dummie, dtype: int64"
      ]
     },
     "execution_count": 105,
     "metadata": {},
     "output_type": "execute_result"
    }
   ],
   "source": [
    "siniestros_feriados=siniestros_feriados.feriado_dummie.value_counts()\n",
    "siniestros_feriados"
   ]
  },
  {
   "cell_type": "code",
   "execution_count": 106,
   "metadata": {},
   "outputs": [
    {
     "name": "stdout",
     "output_type": "stream",
     "text": [
      "Ratio Accidentes dia habil --> 26.77350776778414\n",
      "Ratio Accidentes dia feriado --> 17.416666666666668\n"
     ]
    }
   ],
   "source": [
    "print('Ratio Accidentes dia habil -->', siniestros_feriados.iloc[0]/cantidad_no_feriados)\n",
    "print('Ratio Accidentes dia feriado -->', siniestros_feriados.iloc[1]/cantidad_feriados)\n",
    "ratios=[siniestros_feriados.iloc[0]/cantidad_no_feriados,siniestros_feriados.iloc[1]/cantidad_feriados ]"
   ]
  },
  {
   "cell_type": "code",
   "execution_count": 107,
   "metadata": {},
   "outputs": [
    {
     "data": {
      "text/plain": [
       "Text(0.5, 1.0, 'Ratio de accidentes según tipo de día')"
      ]
     },
     "execution_count": 107,
     "metadata": {},
     "output_type": "execute_result"
    },
    {
     "data": {
      "image/png": "[encoded data removed]",
      "text/plain": [
       "<Figure size 432x288 with 1 Axes>"
      ]
     },
     "metadata": {
      "needs_background": "light"
     },
     "output_type": "display_data"
    }
   ],
   "source": [
    "fig, ax = plt.subplots()\n",
    "sns.barplot(x=['Hábil', 'Feriado'],y=ratios, ax=ax, palette='Paired_r')\n",
    "ax.set_title(\"Ratio de accidentes según tipo de día\")"
   ]
  },
  {
   "cell_type": "code",
   "execution_count": null,
   "metadata": {},
   "outputs": [],
   "source": []
  },
  {
   "cell_type": "code",
   "execution_count": 109,
   "metadata": {},
   "outputs": [
    {
     "data": {
      "text/plain": [
       "<AxesSubplot:title={'center':'Cantidad de `genero` fallecidos'}, xlabel='index', ylabel='sexo'>"
      ]
     },
     "execution_count": 109,
     "metadata": {},
     "output_type": "execute_result"
    },
    {
     "data": {
      "image/png": "[encoded data removed]",
      "text/plain": [
       "<Figure size 1080x648 with 4 Axes>"
      ]
     },
     "metadata": {
      "needs_background": "light"
     },
     "output_type": "display_data"
    }
   ],
   "source": [
    "fig, ax = plt.subplots(2,2, figsize=(15,9))\n",
    "causas_count = siniestros_df.causa.value_counts().reset_index()\n",
    "ax[0,0].set_title('Cantidad de Lesiones vs Homicidios')\n",
    "sns.barplot(x=causas_count['index'], y=causas_count['causa'], data=causas_count, ax=ax[0,0])\n",
    "\n",
    "roles_count = siniestros_df[siniestros_df.causa=='homicidio'].rol.value_counts().reset_index()\n",
    "roles_count=roles_count[roles_count['index'].isin(['conductor', 'peaton', 'pasajero', 'ciclista'])]\n",
    "ax[0,1].set_title('Cantidad de `roles` fallecidos')\n",
    "sns.barplot(x=roles_count['index'], y=roles_count['rol'], data=roles_count, ax=ax[0,1])\n",
    "\n",
    "tipos_count=siniestros_df[siniestros_df.causa=='homicidio'].tipo.value_counts().reset_index()\n",
    "tipos_count=tipos_count[tipos_count['tipo']>3]\n",
    "ax[1,0].set_title('Cantidad de `tipo` fallecidos')\n",
    "sns.barplot(x=tipos_count['index'], y=tipos_count['tipo'], data=tipos_count, ax=ax[1,0])\n",
    "\n",
    "\n",
    "sexo_count = siniestros_df.sexo.value_counts().reset_index()\n",
    "ax[1,1].set_title('Cantidad de `genero` fallecidos')\n",
    "sns.barplot(x=sexo_count['index'], y=sexo_count['sexo'], data=sexo_count, ax=ax[1,1])"
   ]
  },
  {
   "cell_type": "code",
   "execution_count": null,
   "metadata": {},
   "outputs": [],
   "source": []
  },
  {
   "cell_type": "code",
   "execution_count": null,
   "metadata": {},
   "outputs": [],
   "source": []
  },
  {
   "cell_type": "markdown",
   "metadata": {},
   "source": [
    "<hr>\n",
    "<div id='modelado'>\n",
    "    <h2> Modelado </h2>\n",
    "</div>\n",
    "<hr>"
   ]
  },
  {
   "cell_type": "markdown",
   "metadata": {},
   "source": [
    "El primer paso de nuestro modelado va a ser entrenar 5 modelos de regresión \"simples\", sin modificar sus hiperparámetros:\n",
    "\n",
    "* LinearRegression\n",
    "* KNeighborsRegressor\n",
    "* DecisionTreeRegressor\n",
    "* AdaBoostRegressor\n",
    "* GradientBoostingRegressor\n",
    "\n",
    "Luego de entrenar cada modelo, lo que vamos a realizar es un Grid Search + Cross Validation sobre cada modelo base, para encontrar la mejor performance de cada modelo y así quedarnos el mejor."
   ]
  },
  {
   "cell_type": "code",
   "execution_count": 2,
   "metadata": {},
   "outputs": [],
   "source": [
    "data_model_df=pd.read_csv('dataset_for_model_VFinal.csv')"
   ]
  },
  {
   "cell_type": "code",
   "execution_count": 3,
   "metadata": {},
   "outputs": [],
   "source": [
    "from sklearn.ensemble import GradientBoostingRegressor, AdaBoostRegressor\n",
    "from sklearn.linear_model import LinearRegression\n",
    "from sklearn.neighbors import KNeighborsRegressor\n",
    "from sklearn.tree import DecisionTreeRegressor\n",
    "from sklearn.model_selection import train_test_split, GridSearchCV, StratifiedKFold\n",
    "from sklearn.metrics import mean_squared_error, r2_score"
   ]
  },
  {
   "cell_type": "code",
   "execution_count": 4,
   "metadata": {},
   "outputs": [],
   "source": [
    "X = data_model_df.drop('cantidad_accidentes', axis=1)\n",
    "y = data_model_df.cantidad_accidentes"
   ]
  },
  {
   "cell_type": "code",
   "execution_count": 5,
   "metadata": {},
   "outputs": [
    {
     "name": "stdout",
     "output_type": "stream",
     "text": [
      "(53707, 89)\n",
      "(53707,)\n"
     ]
    }
   ],
   "source": [
    "print(X.shape)\n",
    "print(y.shape)"
   ]
  },
  {
   "cell_type": "code",
   "execution_count": 6,
   "metadata": {},
   "outputs": [],
   "source": [
    "X_train, X_test, y_train, y_test = train_test_split(X, y, test_size=0.25)"
   ]
  },
  {
   "cell_type": "code",
   "execution_count": 116,
   "metadata": {},
   "outputs": [
    {
     "name": "stdout",
     "output_type": "stream",
     "text": [
      "Shapes en train\n",
      "X_train -->  (40280, 89)\n",
      "y_train -->  (40280,) \n",
      "\n",
      "Shapes en test\n",
      "X_test -->  (13427, 89)\n",
      "y_test -->  (13427,)\n"
     ]
    }
   ],
   "source": [
    "print('Shapes en train')\n",
    "print('X_train --> ',X_train.shape)\n",
    "print('y_train --> ',y_train.shape,'\\n')\n",
    "print('Shapes en test')\n",
    "print('X_test --> ',X_test.shape)\n",
    "print('y_test --> ',y_test.shape)"
   ]
  },
  {
   "cell_type": "code",
   "execution_count": null,
   "metadata": {},
   "outputs": [],
   "source": []
  },
  {
   "cell_type": "code",
   "execution_count": 117,
   "metadata": {},
   "outputs": [],
   "source": [
    "xgboost_simple = GradientBoostingRegressor()\n",
    "adaboost_simple = AdaBoostRegressor()\n",
    "linear_simple = LinearRegression()\n",
    "knn_simple = KNeighborsRegressor()\n",
    "tree_simple = DecisionTreeRegressor()"
   ]
  },
  {
   "cell_type": "code",
   "execution_count": 118,
   "metadata": {},
   "outputs": [],
   "source": [
    "simple_models = [knn_simple, linear_simple, tree_simple, xgboost_simple, adaboost_simple]"
   ]
  },
  {
   "cell_type": "code",
   "execution_count": 119,
   "metadata": {},
   "outputs": [],
   "source": [
    "simple_results = {}"
   ]
  },
  {
   "cell_type": "code",
   "execution_count": 120,
   "metadata": {},
   "outputs": [
    {
     "name": "stdout",
     "output_type": "stream",
     "text": [
      "======KNeighborsRegressor()======\n",
      "Fiteando  KNeighborsRegressor() ...\n",
      "KNeighborsRegressor() fiteado!\n",
      "Realizando predicciones de  KNeighborsRegressor() ...\n",
      "Predicciones para  KNeighborsRegressor() realizadas\n",
      "MSE de KNeighborsRegressor() es de:  0.7255678856036345\n",
      "R^2 de KNeighborsRegressor() es de:  0.3022825736462387\n",
      "\n",
      "-----------\n",
      "\n",
      "======LinearRegression()======\n",
      "Fiteando  LinearRegression() ...\n",
      "LinearRegression() fiteado!\n",
      "Realizando predicciones de  LinearRegression() ...\n",
      "Predicciones para  LinearRegression() realizadas\n",
      "MSE de LinearRegression() es de:  0.7884816199356867\n",
      "R^2 de LinearRegression() es de:  0.24178374276986314\n",
      "\n",
      "-----------\n",
      "\n",
      "======DecisionTreeRegressor()======\n",
      "Fiteando  DecisionTreeRegressor() ...\n",
      "DecisionTreeRegressor() fiteado!\n",
      "Realizando predicciones de  DecisionTreeRegressor() ...\n",
      "Predicciones para  DecisionTreeRegressor() realizadas\n",
      "MSE de DecisionTreeRegressor() es de:  0.9046696953898861\n",
      "R^2 de DecisionTreeRegressor() es de:  0.13005547228355618\n",
      "\n",
      "-----------\n",
      "\n",
      "======GradientBoostingRegressor()======\n",
      "Fiteando  GradientBoostingRegressor() ...\n",
      "GradientBoostingRegressor() fiteado!\n",
      "Realizando predicciones de  GradientBoostingRegressor() ...\n",
      "Predicciones para  GradientBoostingRegressor() realizadas\n",
      "MSE de GradientBoostingRegressor() es de:  0.670722906477934\n",
      "R^2 de GradientBoostingRegressor() es de:  0.3550223633244629\n",
      "\n",
      "-----------\n",
      "\n",
      "======AdaBoostRegressor()======\n",
      "Fiteando  AdaBoostRegressor() ...\n",
      "AdaBoostRegressor() fiteado!\n",
      "Realizando predicciones de  AdaBoostRegressor() ...\n",
      "Predicciones para  AdaBoostRegressor() realizadas\n",
      "MSE de AdaBoostRegressor() es de:  1.107229046830434\n",
      "R^2 de AdaBoostRegressor() es de:  -0.06472876799936045\n",
      "\n",
      "-----------\n",
      "\n"
     ]
    }
   ],
   "source": [
    "for model in simple_models:\n",
    "    print('======'+str(model)+'======')\n",
    "        \n",
    "    print('Fiteando ', str(model), '...')\n",
    "    model.fit(X_train, y_train)\n",
    "    print(model, 'fiteado!')\n",
    "    \n",
    "    print('Realizando predicciones de ', str(model), '...')\n",
    "    y_pred = model.predict(X_test)\n",
    "    print('Predicciones para ', str(model), 'realizadas')\n",
    "    \n",
    "    mse = mean_squared_error(y_test, y_pred)\n",
    "    r2score = r2_score(y_test, y_pred)\n",
    "    \n",
    "    model_scores = {'R^2 Score': r2score, 'MSE Score': mse}\n",
    "    \n",
    "    print('MSE de '+str(model)+' es de: ', mse)\n",
    "    print('R^2 de '+str(model)+' es de: ', r2score)\n",
    "    \n",
    "    model_dict = {str(model): model_scores}\n",
    "    \n",
    "    simple_results.update(model_dict)\n",
    "    \n",
    "    #simple_results[str(model)]['R^2 Score'] = r2score\n",
    "    #simple_results[str(model)]['MSE Score'] = mse\n",
    "        \n",
    "    print('\\n-----------\\n')"
   ]
  },
  {
   "cell_type": "code",
   "execution_count": 121,
   "metadata": {},
   "outputs": [],
   "source": [
    "simple_models_df = pd.DataFrame(simple_results).transpose().sort_values(by='R^2 Score', ascending=False)"
   ]
  },
  {
   "cell_type": "code",
   "execution_count": 122,
   "metadata": {},
   "outputs": [
    {
     "data": {
      "text/html": [
       "<div>\n",
       "<style scoped>\n",
       "    .dataframe tbody tr th:only-of-type {\n",
       "        vertical-align: middle;\n",
       "    }\n",
       "\n",
       "    .dataframe tbody tr th {\n",
       "        vertical-align: top;\n",
       "    }\n",
       "\n",
       "    .dataframe thead th {\n",
       "        text-align: right;\n",
       "    }\n",
       "</style>\n",
       "<table border=\"1\" class=\"dataframe\">\n",
       "  <thead>\n",
       "    <tr style=\"text-align: right;\">\n",
       "      <th></th>\n",
       "      <th>R^2 Score</th>\n",
       "      <th>MSE Score</th>\n",
       "    </tr>\n",
       "  </thead>\n",
       "  <tbody>\n",
       "    <tr>\n",
       "      <th>GradientBoostingRegressor()</th>\n",
       "      <td>0.355022</td>\n",
       "      <td>0.670723</td>\n",
       "    </tr>\n",
       "    <tr>\n",
       "      <th>KNeighborsRegressor()</th>\n",
       "      <td>0.302283</td>\n",
       "      <td>0.725568</td>\n",
       "    </tr>\n",
       "    <tr>\n",
       "      <th>LinearRegression()</th>\n",
       "      <td>0.241784</td>\n",
       "      <td>0.788482</td>\n",
       "    </tr>\n",
       "    <tr>\n",
       "      <th>DecisionTreeRegressor()</th>\n",
       "      <td>0.130055</td>\n",
       "      <td>0.904670</td>\n",
       "    </tr>\n",
       "    <tr>\n",
       "      <th>AdaBoostRegressor()</th>\n",
       "      <td>-0.064729</td>\n",
       "      <td>1.107229</td>\n",
       "    </tr>\n",
       "  </tbody>\n",
       "</table>\n",
       "</div>"
      ],
      "text/plain": [
       "                             R^2 Score  MSE Score\n",
       "GradientBoostingRegressor()   0.355022   0.670723\n",
       "KNeighborsRegressor()         0.302283   0.725568\n",
       "LinearRegression()            0.241784   0.788482\n",
       "DecisionTreeRegressor()       0.130055   0.904670\n",
       "AdaBoostRegressor()          -0.064729   1.107229"
      ]
     },
     "execution_count": 122,
     "metadata": {},
     "output_type": "execute_result"
    }
   ],
   "source": [
    "simple_models_df"
   ]
  },
  {
   "cell_type": "code",
   "execution_count": null,
   "metadata": {},
   "outputs": [],
   "source": []
  },
  {
   "cell_type": "code",
   "execution_count": 123,
   "metadata": {},
   "outputs": [],
   "source": [
    "linear_params = {'fit_intercept': [True, False], 'normalize': [False, True]}"
   ]
  },
  {
   "cell_type": "code",
   "execution_count": 131,
   "metadata": {},
   "outputs": [],
   "source": [
    "knn_params = {'metric': ['minkowski', 'euclidean', 'chebyshev'],\n",
    "             'n_neighbors': range(10,20),\n",
    "             'weights': ['uniform', 'distance']}"
   ]
  },
  {
   "cell_type": "code",
   "execution_count": 125,
   "metadata": {},
   "outputs": [],
   "source": [
    "xgboost_params = {'learning_rate': [0.01, 0.1, 1.0],\n",
    "                     'max_depth': [1, 3, 5],\n",
    "                     'n_estimators': [100, 500, 750, 1000],\n",
    "                 'max_features': [9, None]}"
   ]
  },
  {
   "cell_type": "code",
   "execution_count": 126,
   "metadata": {},
   "outputs": [],
   "source": [
    "adaboost_params = {'base_estimator': [None, tree_simple],\n",
    "                'loss': ['linear', 'exponential'],\n",
    "                     'n_estimators': [100, 500, 1000],\n",
    "                  'learning_rate': [0.01, 0.1, 1.0]}"
   ]
  },
  {
   "cell_type": "code",
   "execution_count": 127,
   "metadata": {},
   "outputs": [],
   "source": [
    "tree_params = {\n",
    "               'min_samples_split': range(2, 10),\n",
    "               'max_depth': [1, 3, None]\n",
    "                }"
   ]
  },
  {
   "cell_type": "code",
   "execution_count": 132,
   "metadata": {},
   "outputs": [],
   "source": [
    "models_params = {'LinearRegression()': linear_params,\n",
    "                'KNeighborsRegressor()': knn_params,\n",
    "                 'DecisionTreeRegressor()': tree_params,\n",
    "                 'GradientBoostingRegressor()':xgboost_params,\n",
    "                 'AdaBoostRegressor()': adaboost_params}"
   ]
  },
  {
   "cell_type": "code",
   "execution_count": null,
   "metadata": {},
   "outputs": [],
   "source": []
  },
  {
   "cell_type": "code",
   "execution_count": 133,
   "metadata": {},
   "outputs": [],
   "source": [
    "models_grid_dict = {}"
   ]
  },
  {
   "cell_type": "code",
   "execution_count": 134,
   "metadata": {},
   "outputs": [
    {
     "name": "stdout",
     "output_type": "stream",
     "text": [
      "======KNeighborsRegressor()======\n",
      "Fiteando  KNeighborsRegressor() ...\n",
      "Fitting 5 folds for each of 60 candidates, totalling 300 fits\n"
     ]
    },
    {
     "name": "stderr",
     "output_type": "stream",
     "text": [
      "/Users/bpeco/opt/anaconda3/lib/python3.8/site-packages/sklearn/model_selection/_split.py:670: UserWarning: The least populated class in y has only 1 members, which is less than n_splits=5.\n",
      "  warnings.warn((\"The least populated class in y has only %d\"\n",
      "[Parallel(n_jobs=-1)]: Using backend LokyBackend with 8 concurrent workers.\n",
      "[Parallel(n_jobs=-1)]: Done  25 tasks      | elapsed:  4.6min\n",
      "[Parallel(n_jobs=-1)]: Done 146 tasks      | elapsed: 20.6min\n",
      "[Parallel(n_jobs=-1)]: Done 300 out of 300 | elapsed: 44.0min finished\n"
     ]
    },
    {
     "name": "stdout",
     "output_type": "stream",
     "text": [
      "KNeighborsRegressor() fiteado!\n",
      "Realizando predicciones de  KNeighborsRegressor() ...\n",
      "Predicciones para  KNeighborsRegressor() realizadas\n",
      "MSE de KNeighborsRegressor() es de:  0.5707646167941679\n",
      "R^2 de KNeighborsRegressor() es de:  0.4511438179873285\n",
      "\n",
      "-----------\n",
      "\n",
      "======LinearRegression()======\n",
      "Fiteando  LinearRegression() ...\n",
      "Fitting 5 folds for each of 4 candidates, totalling 20 fits\n"
     ]
    },
    {
     "name": "stderr",
     "output_type": "stream",
     "text": [
      "/Users/bpeco/opt/anaconda3/lib/python3.8/site-packages/sklearn/model_selection/_split.py:670: UserWarning: The least populated class in y has only 1 members, which is less than n_splits=5.\n",
      "  warnings.warn((\"The least populated class in y has only %d\"\n",
      "[Parallel(n_jobs=-1)]: Using backend LokyBackend with 8 concurrent workers.\n",
      "[Parallel(n_jobs=-1)]: Done  16 out of  20 | elapsed:    1.0s remaining:    0.3s\n",
      "[Parallel(n_jobs=-1)]: Done  20 out of  20 | elapsed:    1.1s finished\n"
     ]
    },
    {
     "name": "stdout",
     "output_type": "stream",
     "text": [
      "LinearRegression() fiteado!\n",
      "Realizando predicciones de  LinearRegression() ...\n",
      "Predicciones para  LinearRegression() realizadas\n",
      "MSE de LinearRegression() es de:  0.7884816199356867\n",
      "R^2 de LinearRegression() es de:  0.24178374276986314\n",
      "\n",
      "-----------\n",
      "\n",
      "======DecisionTreeRegressor()======\n",
      "Fiteando  DecisionTreeRegressor() ...\n",
      "Fitting 5 folds for each of 24 candidates, totalling 120 fits\n"
     ]
    },
    {
     "name": "stderr",
     "output_type": "stream",
     "text": [
      "/Users/bpeco/opt/anaconda3/lib/python3.8/site-packages/sklearn/model_selection/_split.py:670: UserWarning: The least populated class in y has only 1 members, which is less than n_splits=5.\n",
      "  warnings.warn((\"The least populated class in y has only %d\"\n",
      "[Parallel(n_jobs=-1)]: Using backend LokyBackend with 8 concurrent workers.\n",
      "[Parallel(n_jobs=-1)]: Done  34 tasks      | elapsed:    0.7s\n",
      "[Parallel(n_jobs=-1)]: Done 120 out of 120 | elapsed:    6.9s finished\n"
     ]
    },
    {
     "name": "stdout",
     "output_type": "stream",
     "text": [
      "DecisionTreeRegressor() fiteado!\n",
      "Realizando predicciones de  DecisionTreeRegressor() ...\n",
      "Predicciones para  DecisionTreeRegressor() realizadas\n",
      "MSE de DecisionTreeRegressor() es de:  0.7989477304166125\n",
      "R^2 de DecisionTreeRegressor() es de:  0.23171936724611664\n",
      "\n",
      "-----------\n",
      "\n",
      "======GradientBoostingRegressor()======\n",
      "Fiteando  GradientBoostingRegressor() ...\n",
      "Fitting 5 folds for each of 72 candidates, totalling 360 fits\n"
     ]
    },
    {
     "name": "stderr",
     "output_type": "stream",
     "text": [
      "/Users/bpeco/opt/anaconda3/lib/python3.8/site-packages/sklearn/model_selection/_split.py:670: UserWarning: The least populated class in y has only 1 members, which is less than n_splits=5.\n",
      "  warnings.warn((\"The least populated class in y has only %d\"\n",
      "[Parallel(n_jobs=-1)]: Using backend LokyBackend with 8 concurrent workers.\n",
      "[Parallel(n_jobs=-1)]: Done  25 tasks      | elapsed:   10.1s\n",
      "[Parallel(n_jobs=-1)]: Done 146 tasks      | elapsed:  6.8min\n",
      "[Parallel(n_jobs=-1)]: Done 360 out of 360 | elapsed: 19.6min finished\n"
     ]
    },
    {
     "name": "stdout",
     "output_type": "stream",
     "text": [
      "GradientBoostingRegressor() fiteado!\n",
      "Realizando predicciones de  GradientBoostingRegressor() ...\n",
      "Predicciones para  GradientBoostingRegressor() realizadas\n",
      "MSE de GradientBoostingRegressor() es de:  0.5163480649960794\n",
      "R^2 de GradientBoostingRegressor() es de:  0.5034716252469091\n",
      "\n",
      "-----------\n",
      "\n",
      "======AdaBoostRegressor()======\n",
      "Fiteando  AdaBoostRegressor() ...\n",
      "Fitting 5 folds for each of 36 candidates, totalling 180 fits\n"
     ]
    },
    {
     "name": "stderr",
     "output_type": "stream",
     "text": [
      "/Users/bpeco/opt/anaconda3/lib/python3.8/site-packages/sklearn/model_selection/_split.py:670: UserWarning: The least populated class in y has only 1 members, which is less than n_splits=5.\n",
      "  warnings.warn((\"The least populated class in y has only %d\"\n",
      "[Parallel(n_jobs=-1)]: Using backend LokyBackend with 8 concurrent workers.\n",
      "[Parallel(n_jobs=-1)]: Done  25 tasks      | elapsed:  8.8min\n",
      "[Parallel(n_jobs=-1)]: Done 146 tasks      | elapsed: 73.0min\n",
      "[Parallel(n_jobs=-1)]: Done 180 out of 180 | elapsed: 110.5min finished\n"
     ]
    },
    {
     "name": "stdout",
     "output_type": "stream",
     "text": [
      "AdaBoostRegressor() fiteado!\n",
      "Realizando predicciones de  AdaBoostRegressor() ...\n",
      "Predicciones para  AdaBoostRegressor() realizadas\n",
      "MSE de AdaBoostRegressor() es de:  0.7595144112608923\n",
      "R^2 de AdaBoostRegressor() es de:  0.269639063665737\n",
      "\n",
      "-----------\n",
      "\n"
     ]
    }
   ],
   "source": [
    "for model in simple_models:\n",
    "    print('======'+str(model)+'======')\n",
    "    \n",
    "    folds = StratifiedKFold(n_splits=5, shuffle=True)\n",
    "    \n",
    "    grid_model = GridSearchCV(model, param_grid=models_params[str(model)], verbose=2, n_jobs=-1, scoring='r2', cv=folds)\n",
    "        \n",
    "    print('Fiteando ', str(model), '...')\n",
    "    #display(model)\n",
    "    #display(models_params[str(model)])\n",
    "    grid_model.fit(X_train, y_train)\n",
    "    print(model, 'fiteado!')\n",
    "    \n",
    "    best_estimator = grid_model.best_estimator_\n",
    "    best_params = grid_model.best_params_\n",
    "    \n",
    "    print('Realizando predicciones de ', str(model), '...')\n",
    "    y_pred = best_estimator.predict(X_test)\n",
    "    print('Predicciones para ', str(model), 'realizadas')\n",
    "    \n",
    "    mse = mean_squared_error(y_test, y_pred)\n",
    "    r2score = r2_score(y_test, y_pred)\n",
    "    \n",
    "    model_scores = {'R^2 Score': r2score, 'MSE Score': mse}\n",
    "    \n",
    "    model_results = {}\n",
    "    model_results.update(model_scores)\n",
    "    #display(model_results)\n",
    "    #display(dict(best_params))\n",
    "    model_results['Best params'] = (dict(best_params))\n",
    "    #display(model_results)\n",
    "    \n",
    "    print('MSE de '+str(model)+' es de: ', mse)\n",
    "    print('R^2 de '+str(model)+' es de: ', r2score)\n",
    "    \n",
    "   # models_grid_dict = {str(model): model_scores}\n",
    "    models_grid_dict[str(model)] = model_results\n",
    "    #models_grid_dict.update(model_results)\n",
    "    #display(models_grid_dict)\n",
    "    \n",
    "    #simple_results[str(model)]['R^2 Score'] = r2score\n",
    "    #simple_results[str(model)]['MSE Score'] = mse\n",
    "        \n",
    "    print('\\n-----------\\n')"
   ]
  },
  {
   "cell_type": "code",
   "execution_count": 143,
   "metadata": {},
   "outputs": [],
   "source": [
    "models_grid_df = pd.DataFrame(models_grid_dict).transpose()"
   ]
  },
  {
   "cell_type": "code",
   "execution_count": 144,
   "metadata": {},
   "outputs": [],
   "source": [
    "models_grid_df.sort_values(by='R^2 Score', ascending=False, inplace=True)"
   ]
  },
  {
   "cell_type": "code",
   "execution_count": 145,
   "metadata": {},
   "outputs": [
    {
     "data": {
      "text/html": [
       "<div>\n",
       "<style scoped>\n",
       "    .dataframe tbody tr th:only-of-type {\n",
       "        vertical-align: middle;\n",
       "    }\n",
       "\n",
       "    .dataframe tbody tr th {\n",
       "        vertical-align: top;\n",
       "    }\n",
       "\n",
       "    .dataframe thead th {\n",
       "        text-align: right;\n",
       "    }\n",
       "</style>\n",
       "<table border=\"1\" class=\"dataframe\">\n",
       "  <thead>\n",
       "    <tr style=\"text-align: right;\">\n",
       "      <th></th>\n",
       "      <th>R^2 Score</th>\n",
       "      <th>MSE Score</th>\n",
       "      <th>Best params</th>\n",
       "    </tr>\n",
       "  </thead>\n",
       "  <tbody>\n",
       "    <tr>\n",
       "      <th>GradientBoostingRegressor()</th>\n",
       "      <td>0.503472</td>\n",
       "      <td>0.516348</td>\n",
       "      <td>{'learning_rate': 0.1, 'max_depth': 5, 'max_fe...</td>\n",
       "    </tr>\n",
       "    <tr>\n",
       "      <th>KNeighborsRegressor()</th>\n",
       "      <td>0.451144</td>\n",
       "      <td>0.570765</td>\n",
       "      <td>{'metric': 'minkowski', 'n_neighbors': 19, 'we...</td>\n",
       "    </tr>\n",
       "    <tr>\n",
       "      <th>AdaBoostRegressor()</th>\n",
       "      <td>0.269639</td>\n",
       "      <td>0.759514</td>\n",
       "      <td>{'base_estimator': DecisionTreeRegressor(), 'l...</td>\n",
       "    </tr>\n",
       "    <tr>\n",
       "      <th>LinearRegression()</th>\n",
       "      <td>0.241784</td>\n",
       "      <td>0.788482</td>\n",
       "      <td>{'fit_intercept': True, 'normalize': False}</td>\n",
       "    </tr>\n",
       "    <tr>\n",
       "      <th>DecisionTreeRegressor()</th>\n",
       "      <td>0.231719</td>\n",
       "      <td>0.798948</td>\n",
       "      <td>{'max_depth': None, 'min_samples_split': 9}</td>\n",
       "    </tr>\n",
       "  </tbody>\n",
       "</table>\n",
       "</div>"
      ],
      "text/plain": [
       "                            R^2 Score MSE Score  \\\n",
       "GradientBoostingRegressor()  0.503472  0.516348   \n",
       "KNeighborsRegressor()        0.451144  0.570765   \n",
       "AdaBoostRegressor()          0.269639  0.759514   \n",
       "LinearRegression()           0.241784  0.788482   \n",
       "DecisionTreeRegressor()      0.231719  0.798948   \n",
       "\n",
       "                                                                   Best params  \n",
       "GradientBoostingRegressor()  {'learning_rate': 0.1, 'max_depth': 5, 'max_fe...  \n",
       "KNeighborsRegressor()        {'metric': 'minkowski', 'n_neighbors': 19, 'we...  \n",
       "AdaBoostRegressor()          {'base_estimator': DecisionTreeRegressor(), 'l...  \n",
       "LinearRegression()                 {'fit_intercept': True, 'normalize': False}  \n",
       "DecisionTreeRegressor()            {'max_depth': None, 'min_samples_split': 9}  "
      ]
     },
     "execution_count": 145,
     "metadata": {},
     "output_type": "execute_result"
    }
   ],
   "source": [
    "models_grid_df"
   ]
  },
  {
   "cell_type": "code",
   "execution_count": null,
   "metadata": {},
   "outputs": [],
   "source": []
  },
  {
   "cell_type": "markdown",
   "metadata": {},
   "source": [
    "# poner un grafico/df sobre el mejor modelo comparando y_test e y_pred"
   ]
  },
  {
   "cell_type": "code",
   "execution_count": 147,
   "metadata": {},
   "outputs": [
    {
     "data": {
      "text/plain": [
       "{'learning_rate': 0.1, 'max_depth': 5, 'max_features': 9, 'n_estimators': 1000}"
      ]
     },
     "execution_count": 147,
     "metadata": {},
     "output_type": "execute_result"
    }
   ],
   "source": [
    "models_grid_df['Best params'].iloc[0]"
   ]
  },
  {
   "cell_type": "code",
   "execution_count": 8,
   "metadata": {},
   "outputs": [],
   "source": [
    "xgboost_FINAL = GradientBoostingRegressor(learning_rate=0.1, max_depth=5, max_features=9, n_estimators=1000)"
   ]
  },
  {
   "cell_type": "code",
   "execution_count": 11,
   "metadata": {},
   "outputs": [
    {
     "data": {
      "text/plain": [
       "GradientBoostingRegressor(max_depth=5, max_features=9, n_estimators=1000)"
      ]
     },
     "execution_count": 11,
     "metadata": {},
     "output_type": "execute_result"
    }
   ],
   "source": [
    "xgboost_FINAL.fit(X_train, y_train)"
   ]
  },
  {
   "cell_type": "code",
   "execution_count": 14,
   "metadata": {},
   "outputs": [
    {
     "name": "stdout",
     "output_type": "stream",
     "text": [
      "Predicciones para  GradientBoostingRegressor(max_depth=5, max_features=9, n_estimators=1000) realizadas\n"
     ]
    }
   ],
   "source": [
    "y_pred_final = xgboost_FINAL.predict(X_test)\n",
    "print('Predicciones para ', str(xgboost_FINAL), 'realizadas')"
   ]
  },
  {
   "cell_type": "code",
   "execution_count": 52,
   "metadata": {},
   "outputs": [],
   "source": [
    "df_comparacion = pd.DataFrame(list(zip(y_test,y_pred_final.astype(int))), columns=[\"Test\",\"Predic\"])"
   ]
  },
  {
   "cell_type": "code",
   "execution_count": 84,
   "metadata": {},
   "outputs": [],
   "source": [
    "df_comparacion['diferencia'] = df_comparacion['Test']- df_comparacion['Predic']"
   ]
  },
  {
   "cell_type": "code",
   "execution_count": 86,
   "metadata": {},
   "outputs": [
    {
     "data": {
      "text/html": [
       "<div>\n",
       "<style scoped>\n",
       "    .dataframe tbody tr th:only-of-type {\n",
       "        vertical-align: middle;\n",
       "    }\n",
       "\n",
       "    .dataframe tbody tr th {\n",
       "        vertical-align: top;\n",
       "    }\n",
       "\n",
       "    .dataframe thead th {\n",
       "        text-align: right;\n",
       "    }\n",
       "</style>\n",
       "<table border=\"1\" class=\"dataframe\">\n",
       "  <thead>\n",
       "    <tr style=\"text-align: right;\">\n",
       "      <th></th>\n",
       "      <th>Test</th>\n",
       "      <th>Predic</th>\n",
       "      <th>diferencia</th>\n",
       "    </tr>\n",
       "  </thead>\n",
       "  <tbody>\n",
       "    <tr>\n",
       "      <th>0</th>\n",
       "      <td>0</td>\n",
       "      <td>0</td>\n",
       "      <td>0</td>\n",
       "    </tr>\n",
       "    <tr>\n",
       "      <th>1</th>\n",
       "      <td>0</td>\n",
       "      <td>0</td>\n",
       "      <td>0</td>\n",
       "    </tr>\n",
       "    <tr>\n",
       "      <th>2</th>\n",
       "      <td>0</td>\n",
       "      <td>0</td>\n",
       "      <td>0</td>\n",
       "    </tr>\n",
       "    <tr>\n",
       "      <th>3</th>\n",
       "      <td>0</td>\n",
       "      <td>0</td>\n",
       "      <td>0</td>\n",
       "    </tr>\n",
       "    <tr>\n",
       "      <th>4</th>\n",
       "      <td>0</td>\n",
       "      <td>0</td>\n",
       "      <td>0</td>\n",
       "    </tr>\n",
       "    <tr>\n",
       "      <th>...</th>\n",
       "      <td>...</td>\n",
       "      <td>...</td>\n",
       "      <td>...</td>\n",
       "    </tr>\n",
       "    <tr>\n",
       "      <th>13422</th>\n",
       "      <td>0</td>\n",
       "      <td>0</td>\n",
       "      <td>0</td>\n",
       "    </tr>\n",
       "    <tr>\n",
       "      <th>13423</th>\n",
       "      <td>0</td>\n",
       "      <td>0</td>\n",
       "      <td>0</td>\n",
       "    </tr>\n",
       "    <tr>\n",
       "      <th>13424</th>\n",
       "      <td>0</td>\n",
       "      <td>0</td>\n",
       "      <td>0</td>\n",
       "    </tr>\n",
       "    <tr>\n",
       "      <th>13425</th>\n",
       "      <td>0</td>\n",
       "      <td>0</td>\n",
       "      <td>0</td>\n",
       "    </tr>\n",
       "    <tr>\n",
       "      <th>13426</th>\n",
       "      <td>0</td>\n",
       "      <td>0</td>\n",
       "      <td>0</td>\n",
       "    </tr>\n",
       "  </tbody>\n",
       "</table>\n",
       "<p>13427 rows × 3 columns</p>\n",
       "</div>"
      ],
      "text/plain": [
       "       Test  Predic  diferencia\n",
       "0         0       0           0\n",
       "1         0       0           0\n",
       "2         0       0           0\n",
       "3         0       0           0\n",
       "4         0       0           0\n",
       "...     ...     ...         ...\n",
       "13422     0       0           0\n",
       "13423     0       0           0\n",
       "13424     0       0           0\n",
       "13425     0       0           0\n",
       "13426     0       0           0\n",
       "\n",
       "[13427 rows x 3 columns]"
      ]
     },
     "execution_count": 86,
     "metadata": {},
     "output_type": "execute_result"
    }
   ],
   "source": [
    "df_comparacion"
   ]
  },
  {
   "cell_type": "code",
   "execution_count": 85,
   "metadata": {},
   "outputs": [
    {
     "data": {
      "text/plain": [
       "<AxesSubplot:>"
      ]
     },
     "execution_count": 85,
     "metadata": {},
     "output_type": "execute_result"
    },
    {
     "data": {
      "text/plain": [
       "<Figure size 1080x576 with 0 Axes>"
      ]
     },
     "metadata": {},
     "output_type": "display_data"
    },
    {
     "data": {
      "image/png": "[encoded data removed]",
      "text/plain": [
       "<Figure size 432x288 with 1 Axes>"
      ]
     },
     "metadata": {
      "needs_background": "light"
     },
     "output_type": "display_data"
    }
   ],
   "source": [
    "plt.figure(figsize = (15,8))\n",
    "df_comparacion[['diferencia']].sample(100).reset_index(drop=True).plot(style=['o','rx'])"
   ]
  },
  {
   "cell_type": "code",
   "execution_count": null,
   "metadata": {},
   "outputs": [],
   "source": []
  },
  {
   "cell_type": "code",
   "execution_count": 89,
   "metadata": {},
   "outputs": [],
   "source": [
    "with open('best_xgboos_model_final.pkl', 'wb') as pickle_model:\n",
    "    pickle.dump(xgboost_FINAL, pickle_model)"
   ]
  },
  {
   "cell_type": "code",
   "execution_count": null,
   "metadata": {},
   "outputs": [],
   "source": []
  },
  {
   "cell_type": "code",
   "execution_count": null,
   "metadata": {},
   "outputs": [],
   "source": []
  }
 ],
 "metadata": {
  "kernelspec": {
   "display_name": "Python 3",
   "language": "python",
   "name": "python3"
  },
  "language_info": {
   "codemirror_mode": {
    "name": "ipython",
    "version": 3
   },
   "file_extension": ".py",
   "mimetype": "text/x-python",
   "name": "python",
   "nbconvert_exporter": "python",
   "pygments_lexer": "ipython3",
   "version": "3.8.5"
  }
 },
 "nbformat": 4,
 "nbformat_minor": 4
}
